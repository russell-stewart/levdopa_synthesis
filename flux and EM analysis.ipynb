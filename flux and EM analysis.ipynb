{
 "cells": [
  {
   "cell_type": "markdown",
   "metadata": {
    "slideshow": {
     "slide_type": "slide"
    }
   },
   "source": [
    "# Flux and Elementary Mode Analysis for L-DOPA Synthesis\n",
    "\n",
    "## Imports"
   ]
  },
  {
   "cell_type": "code",
   "execution_count": 1,
   "metadata": {
    "slideshow": {
     "slide_type": "slide"
    }
   },
   "outputs": [
    {
     "name": "stdout",
     "output_type": "stream",
     "text": [
      "unknown metabolite 'dahp_c' created\n",
      "unknown metabolite 'dhq_c' created\n",
      "unknown metabolite '3dhs_c' created\n",
      "unknown metabolite 'shikimate_c' created\n",
      "unknown metabolite 'shikimate3p_c' created\n",
      "unknown metabolite 'epsp_c' created\n",
      "unknown metabolite 'chorismate_c' created\n",
      "unknown metabolite 'prephenate_c' created\n",
      "unknown metabolite '4hppa_c' created\n",
      "unknown metabolite 'tyr__L_c' created\n",
      "unknown metabolite 'levdopa_c' created\n",
      "unknown metabolite 'levdopa_e' created\n"
     ]
    }
   ],
   "source": [
    "#load up everything\n",
    "%matplotlib inline\n",
    "import cobra\n",
    "from cobra import Model, Reaction, Metabolite\n",
    "cobra_config = cobra.Configuration()\n",
    "import escher\n",
    "from escher import Builder\n",
    "import pandas as pd\n",
    "import numpy as np\n",
    "import matplotlib.pyplot as plt\n",
    "from time import sleep\n",
    "import cobra.test\n",
    "from cobra.flux_analysis import (\n",
    "    single_gene_deletion, single_reaction_deletion, double_gene_deletion,double_reaction_deletion)\n",
    "\n",
    "network = pd.read_csv('shikimate_reactions.csv' , header=0)#shikimate related reactions to add\n",
    "sinks = pd.read_csv('sinks.csv' , header=0)#sinks to add\n",
    "\n",
    "levdopa_synthesis = cobra.io.load_json_model(\"e_coli_core.json\")#e coli central metabolism model from BiGG\n",
    "#levdopa_synthesis.solver = 'cplex'\n",
    "\n",
    "#define intracellular reactions not in central metabolism model\n",
    "for (myenzyme , mypathway , myreaction) in network.itertuples(index = False):\n",
    "    rxn = Reaction(myenzyme)\n",
    "    levdopa_synthesis.add_reactions([rxn])\n",
    "    rxn.name = myenzyme\n",
    "    rxn.subsystem = mypathway\n",
    "    rxn.build_reaction_from_string(myreaction)\n",
    "\n",
    "#define extra transport reactions not in central metabolism model\n",
    "for (mymetabolite , mydirection) in sinks.itertuples(index = False):\n",
    "    myreaction = '%s -->' % mymetabolite\n",
    "    rxn = Reaction('EX_%s' % mymetabolite)\n",
    "    levdopa_synthesis.add_reactions([rxn])\n",
    "    rxn.subsystem = 'Extracellular exchange'\n",
    "    rxn.name = '%s_transport' % mymetabolite\n",
    "    rxn.build_reaction_from_string(myreaction)\n",
    "    rxn.lower_bound = 0.\n",
    "    rxn.upper_bound = 1000."
   ]
  },
  {
   "cell_type": "markdown",
   "metadata": {
    "slideshow": {
     "slide_type": "slide"
    }
   },
   "source": [
    "## FBA\n",
    "\n",
    "Glucose is the carbon source here. Nitrogen is assimilated from ammonia using GLUDy. This growth is aerobic, which provides the ATP needed for synthetic activities and closes the redox balance. "
   ]
  },
  {
   "cell_type": "code",
   "execution_count": 2,
   "metadata": {
    "slideshow": {
     "slide_type": "subslide"
    }
   },
   "outputs": [
    {
     "name": "stdout",
     "output_type": "stream",
     "text": [
      "Yield of levdopa from glucose: 0.508230 mol/mol; 0.762345 cmol/cmol\n",
      "Yield of levdopa from ammonia: 1.000000 mol/mol\n"
     ]
    },
    {
     "data": {
      "application/vnd.jupyter.widget-view+json": {
       "model_id": "191d06cd138745ab970a56d1d37f1f32",
       "version_major": 2,
       "version_minor": 0
      },
      "text/plain": [
       "Builder(highlight_missing=True, reaction_data={'PFK': 0.8305899280575539, 'PFL': 0.0, 'PGI': 1.0, 'PGK': -1.32…"
      ]
     },
     "metadata": {},
     "output_type": "display_data"
    }
   ],
   "source": [
    "levdopa_synthesis.objective = 'EX_levdopa_e'#maximize L-DOPA production\n",
    "\n",
    "builder = Builder(map_json = 'full_map.json')#based around corresponding BiGG map. I added shikimate stuff.\n",
    "builder.model = levdopa_synthesis\n",
    "builder.highlight_missing = True\n",
    "\n",
    "solution = builder.model.optimize()\n",
    "\n",
    "builder.reaction_data = solution.fluxes/ abs(solution['EX_glc__D_e'])\n",
    "\n",
    "Y_ldopa_glc = solution['EX_levdopa_e']/abs(solution['EX_glc__D_e'])\n",
    "Y_ldopa_nh4 = solution['EX_levdopa_e']/abs(solution['EX_nh4_e'])\n",
    "\n",
    "print('Yield of levdopa from glucose: %f mol/mol; %f cmol/cmol' % (Y_ldopa_glc , 9/6*Y_ldopa_glc))\n",
    "print('Yield of levdopa from ammonia: %f mol/mol' % Y_ldopa_nh4)\n",
    "\n",
    "builder"
   ]
  },
  {
   "cell_type": "markdown",
   "metadata": {
    "slideshow": {
     "slide_type": "slide"
    }
   },
   "source": [
    "## FBA, but with Glutamate+Glucose as a Feedstock"
   ]
  },
  {
   "cell_type": "code",
   "execution_count": 3,
   "metadata": {
    "slideshow": {
     "slide_type": "subslide"
    }
   },
   "outputs": [
    {
     "name": "stdout",
     "output_type": "stream",
     "text": [
      "Yield of levdopa from glucose: 15.442448 mol/mol; 23.163672 cmol/cmol\n",
      "Yield of levdopa from glutamate: 0.312127 mol/mol; 0.561829 cmol/cmol\n",
      "Percent of carbon from both glucose and glutamate into L-DOPA: 54.852494%\n"
     ]
    },
    {
     "data": {
      "application/vnd.jupyter.widget-view+json": {
       "model_id": "3327e3b4207a4591bb3ec9292dd3e492",
       "version_major": 2,
       "version_minor": 0
      },
      "text/plain": [
       "Builder(highlight_missing=True, reaction_data={'PFK': 0.0, 'PFL': 48.4244776119403, 'PGI': 1.0, 'PGK': 18.5899…"
      ]
     },
     "metadata": {},
     "output_type": "display_data"
    }
   ],
   "source": [
    "import copy\n",
    "levdopa_synthesis_with_glutamate = copy.deepcopy(levdopa_synthesis)\n",
    "\n",
    "#allow glutamate to be used as a feedstock\n",
    "levdopa_synthesis_with_glutamate.reactions.EX_glu__L_e.lower_bound = -1000\n",
    "\n",
    "builder_glutamate = Builder(map_json = 'full_map.json')#based around corresponding BiGG map. I added shikimate stuff.\n",
    "builder_glutamate.model = levdopa_synthesis_with_glutamate\n",
    "builder_glutamate.highlight_missing = True\n",
    "\n",
    "solution_glutamate = builder_glutamate.model.optimize(objective_sense = None)\n",
    "builder_glutamate.reaction_data = solution_glutamate.fluxes / abs(solution_glutamate['EX_glc__D_e'])\n",
    "\n",
    "Y_ldopa_glc = solution_glutamate['EX_levdopa_e']/abs(solution_glutamate['EX_glc__D_e'])\n",
    "Y_ldopa_glu = solution_glutamate['EX_levdopa_e']/abs(solution_glutamate['EX_glu__L_e'])\n",
    "pct_carbon_assimilated = solution_glutamate['EX_levdopa_e'] * 9 / abs(solution_glutamate['EX_glc__D_e'] * 6 + solution_glutamate['EX_glu__L_e'] * 5) * 100\n",
    "\n",
    "print('Yield of levdopa from glucose: %f mol/mol; %f cmol/cmol' % (Y_ldopa_glc , 9/6*Y_ldopa_glc))\n",
    "print('Yield of levdopa from glutamate: %f mol/mol; %f cmol/cmol' % (Y_ldopa_glu , 9/5*Y_ldopa_glu))\n",
    "print('Percent of carbon from both glucose and glutamate into L-DOPA: %f%%' % pct_carbon_assimilated)\n",
    "\n",
    "builder_glutamate"
   ]
  },
  {
   "cell_type": "markdown",
   "metadata": {
    "slideshow": {
     "slide_type": "slide"
    }
   },
   "source": [
    "## Anaerobic Flux Balance Analysis"
   ]
  },
  {
   "cell_type": "code",
   "execution_count": 4,
   "metadata": {
    "slideshow": {
     "slide_type": "subslide"
    }
   },
   "outputs": [
    {
     "name": "stdout",
     "output_type": "stream",
     "text": [
      "Yield of levdopa from glucose: -0.000000 mol/mol; -0.000000 cmol/cmol\n",
      "Yield of levdopa from ammonia: nan mol/mol\n"
     ]
    },
    {
     "name": "stderr",
     "output_type": "stream",
     "text": [
      "/Applications/anaconda3/lib/python3.7/site-packages/ipykernel_launcher.py:14 \u001b[1;31mRuntimeWarning\u001b[0m: invalid value encountered in double_scalars\n"
     ]
    },
    {
     "data": {
      "application/vnd.jupyter.widget-view+json": {
       "model_id": "53d691c57dee4ba8831e306cc7aeac4f",
       "version_major": 2,
       "version_minor": 0
      },
      "text/plain": [
       "Builder(highlight_missing=True, reaction_data={'PFK': 1.0000000000000002, 'PFL': 0.0, 'PGI': 1.000000000000000…"
      ]
     },
     "metadata": {},
     "output_type": "display_data"
    }
   ],
   "source": [
    "levdopa_synthesis_anaerobic = copy.deepcopy(levdopa_synthesis)\n",
    "\n",
    "#knock out oxygen intake\n",
    "levdopa_synthesis_anaerobic.reactions.O2t.knock_out()\n",
    "\n",
    "builder_anaerobic = Builder(map_json = 'full_map.json')#based around corresponding BiGG map. I added shikimate stuff.\n",
    "builder_anaerobic.model = levdopa_synthesis_anaerobic\n",
    "builder_anaerobic.highlight_missing = True\n",
    "\n",
    "solution_anaerobic = builder_anaerobic.model.optimize(objective_sense = None)\n",
    "builder_anaerobic.reaction_data = solution_anaerobic.fluxes / abs(solution_anaerobic['EX_glc__D_e'])\n",
    "\n",
    "Y_ldopa_glc = solution_anaerobic['EX_levdopa_e']/abs(solution_anaerobic['EX_glc__D_e'])\n",
    "Y_ldopa_nh4 = solution_anaerobic['EX_levdopa_e']/abs(solution_anaerobic['EX_nh4_e'])\n",
    "\n",
    "print('Yield of levdopa from glucose: %f mol/mol; %f cmol/cmol' % (Y_ldopa_glc , 9/6*Y_ldopa_glc))\n",
    "print('Yield of levdopa from ammonia: %f mol/mol' % Y_ldopa_nh4)\n",
    "\n",
    "\n",
    "builder_anaerobic"
   ]
  },
  {
   "cell_type": "markdown",
   "metadata": {
    "slideshow": {
     "slide_type": "slide"
    }
   },
   "source": [
    "## Save FBA Results"
   ]
  },
  {
   "cell_type": "code",
   "execution_count": 5,
   "metadata": {
    "slideshow": {
     "slide_type": "subslide"
    }
   },
   "outputs": [],
   "source": [
    "s = pd.DataFrame(solution.fluxes).query('fluxes != 0')\n",
    "s_g = pd.DataFrame(solution_glutamate.fluxes).query('fluxes != 0')\n",
    "s_a = pd.DataFrame(solution_anaerobic.fluxes).query('fluxes != 0')\n",
    "s.to_csv('FBA_results/aerobic.csv')\n",
    "s_g.to_csv('FBA_results/aerobic_glutamate.csv')\n",
    "s_a.to_csv('FBA_results/anaerobic.csv')"
   ]
  }
 ],
 "metadata": {
  "kernelspec": {
   "display_name": "Python 3",
   "language": "python",
   "name": "python3"
  },
  "language_info": {
   "codemirror_mode": {
    "name": "ipython",
    "version": 3
   },
   "file_extension": ".py",
   "mimetype": "text/x-python",
   "name": "python",
   "nbconvert_exporter": "python",
   "pygments_lexer": "ipython3",
   "version": "3.7.6"
  }
 },
 "nbformat": 4,
 "nbformat_minor": 4
}
