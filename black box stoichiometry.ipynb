{
 "cells": [
  {
   "cell_type": "markdown",
   "metadata": {},
   "source": [
    "# Black-Box Stoichiometry"
   ]
  },
  {
   "cell_type": "markdown",
   "metadata": {},
   "source": [
    "## Purpose\n",
    "\n",
    "* To double check that our flux balance analysis solutions obey black box atom balances before we head on to thermodynamics\n",
    "\n",
    "* To compare the maximum theoretical yields calculated through FBA to those calculated through black box stoichiometry alone"
   ]
  },
  {
   "cell_type": "markdown",
   "metadata": {},
   "source": [
    "## Import FBA Results and Stoichiometric Matrix"
   ]
  },
  {
   "cell_type": "code",
   "execution_count": 1,
   "metadata": {},
   "outputs": [],
   "source": [
    "%matplotlib inline\n",
    "import pandas as pd\n",
    "import numpy as np\n",
    "import matplotlib.pyplot as plt\n",
    "import re\n",
    "#Read in csv\n",
    "solution = pd.read_csv('FBA_results/aerobic.csv' , index_col = 0)\n",
    "solution_glu = pd.read_csv('FBA_results/aerobic_glutamate.csv' , index_col = 0)\n",
    "#Extract the exchange fluxes\n",
    "solution_exchanges = solution[solution.index.str.contains('EX_')]\n",
    "solution_glu_exchanges = solution_glu[solution_glu.index.str.contains('EX_')]\n",
    "#FBA returned some fluxes that are near-zero but not zero because of double roundoff errors.\n",
    "solution_exchanges = solution_exchanges.query('abs(fluxes) > .0000000001')\n",
    "solution_glu_exchanges = solution_glu_exchanges.query('abs(fluxes) > .0000000001')\n",
    "#Convert the indexes into just the species name, without EX_ or _e\n",
    "solution_index = [re.search(r\"_[^_]+_{1}\",i).group() for i in solution_exchanges.index]\n",
    "solution_index = [i[1:len(i)-1] for i in solution_index]\n",
    "solution_exchanges.index = solution_index\n",
    "solution_glu_index = [re.search(r\"_[^_]+_{1}\",i).group() for i in solution_glu_exchanges.index]\n",
    "solution_glu_index = [i[1:len(i)-1] for i in solution_glu_index]\n",
    "solution_glu_exchanges.index = solution_glu_index\n",
    "#Read in stoichiometries of our exchanged metabolites\n",
    "S = pd.read_excel('exchange_stoichiometries.xls' , index_col = 0)"
   ]
  },
  {
   "cell_type": "code",
   "execution_count": 2,
   "metadata": {},
   "outputs": [
    {
     "name": "stdout",
     "output_type": "stream",
     "text": [
      "Stoichiometric Matrix\n"
     ]
    },
    {
     "data": {
      "text/html": [
       "<div>\n",
       "<style scoped>\n",
       "    .dataframe tbody tr th:only-of-type {\n",
       "        vertical-align: middle;\n",
       "    }\n",
       "\n",
       "    .dataframe tbody tr th {\n",
       "        vertical-align: top;\n",
       "    }\n",
       "\n",
       "    .dataframe thead th {\n",
       "        text-align: right;\n",
       "    }\n",
       "</style>\n",
       "<table border=\"1\" class=\"dataframe\">\n",
       "  <thead>\n",
       "    <tr style=\"text-align: right;\">\n",
       "      <th></th>\n",
       "      <th>co2</th>\n",
       "      <th>for</th>\n",
       "      <th>glc</th>\n",
       "      <th>glu</th>\n",
       "      <th>h</th>\n",
       "      <th>h2o</th>\n",
       "      <th>o2</th>\n",
       "      <th>levdopa</th>\n",
       "      <th>nh4</th>\n",
       "    </tr>\n",
       "  </thead>\n",
       "  <tbody>\n",
       "    <tr>\n",
       "      <th>c</th>\n",
       "      <td>1</td>\n",
       "      <td>1</td>\n",
       "      <td>6</td>\n",
       "      <td>5</td>\n",
       "      <td>0</td>\n",
       "      <td>0</td>\n",
       "      <td>0</td>\n",
       "      <td>9</td>\n",
       "      <td>0</td>\n",
       "    </tr>\n",
       "    <tr>\n",
       "      <th>h</th>\n",
       "      <td>0</td>\n",
       "      <td>1</td>\n",
       "      <td>12</td>\n",
       "      <td>8</td>\n",
       "      <td>1</td>\n",
       "      <td>2</td>\n",
       "      <td>0</td>\n",
       "      <td>11</td>\n",
       "      <td>4</td>\n",
       "    </tr>\n",
       "    <tr>\n",
       "      <th>o</th>\n",
       "      <td>2</td>\n",
       "      <td>2</td>\n",
       "      <td>6</td>\n",
       "      <td>4</td>\n",
       "      <td>0</td>\n",
       "      <td>1</td>\n",
       "      <td>2</td>\n",
       "      <td>4</td>\n",
       "      <td>0</td>\n",
       "    </tr>\n",
       "    <tr>\n",
       "      <th>n</th>\n",
       "      <td>0</td>\n",
       "      <td>0</td>\n",
       "      <td>0</td>\n",
       "      <td>1</td>\n",
       "      <td>0</td>\n",
       "      <td>0</td>\n",
       "      <td>0</td>\n",
       "      <td>1</td>\n",
       "      <td>1</td>\n",
       "    </tr>\n",
       "  </tbody>\n",
       "</table>\n",
       "</div>"
      ],
      "text/plain": [
       "   co2  for  glc  glu  h  h2o  o2  levdopa  nh4\n",
       "c    1    1    6    5  0    0   0        9    0\n",
       "h    0    1   12    8  1    2   0       11    4\n",
       "o    2    2    6    4  0    1   2        4    0\n",
       "n    0    0    0    1  0    0   0        1    1"
      ]
     },
     "metadata": {},
     "output_type": "display_data"
    },
    {
     "name": "stdout",
     "output_type": "stream",
     "text": [
      "Aerobic Solution Exchange Fluxes (mM/min)\n"
     ]
    },
    {
     "data": {
      "text/html": [
       "<div>\n",
       "<style scoped>\n",
       "    .dataframe tbody tr th:only-of-type {\n",
       "        vertical-align: middle;\n",
       "    }\n",
       "\n",
       "    .dataframe tbody tr th {\n",
       "        vertical-align: top;\n",
       "    }\n",
       "\n",
       "    .dataframe thead th {\n",
       "        text-align: right;\n",
       "    }\n",
       "</style>\n",
       "<table border=\"1\" class=\"dataframe\">\n",
       "  <thead>\n",
       "    <tr style=\"text-align: right;\">\n",
       "      <th></th>\n",
       "      <th>co2</th>\n",
       "      <th>glc</th>\n",
       "      <th>h</th>\n",
       "      <th>h2o</th>\n",
       "      <th>nh4</th>\n",
       "      <th>o2</th>\n",
       "      <th>levdopa</th>\n",
       "    </tr>\n",
       "  </thead>\n",
       "  <tbody>\n",
       "    <tr>\n",
       "      <th>fluxes</th>\n",
       "      <td>14.259281</td>\n",
       "      <td>-10.0</td>\n",
       "      <td>5.082302</td>\n",
       "      <td>39.670791</td>\n",
       "      <td>-5.082302</td>\n",
       "      <td>-14.259281</td>\n",
       "      <td>5.082302</td>\n",
       "    </tr>\n",
       "  </tbody>\n",
       "</table>\n",
       "</div>"
      ],
      "text/plain": [
       "              co2   glc         h        h2o       nh4         o2   levdopa\n",
       "fluxes  14.259281 -10.0  5.082302  39.670791 -5.082302 -14.259281  5.082302"
      ]
     },
     "metadata": {},
     "output_type": "display_data"
    },
    {
     "name": "stdout",
     "output_type": "stream",
     "text": [
      "Aerobic + Glutamate Solution Exchange Fluxes (mM/min)\n"
     ]
    },
    {
     "data": {
      "text/html": [
       "<div>\n",
       "<style scoped>\n",
       "    .dataframe tbody tr th:only-of-type {\n",
       "        vertical-align: middle;\n",
       "    }\n",
       "\n",
       "    .dataframe tbody tr th {\n",
       "        vertical-align: top;\n",
       "    }\n",
       "\n",
       "    .dataframe thead th {\n",
       "        text-align: right;\n",
       "    }\n",
       "</style>\n",
       "<table border=\"1\" class=\"dataframe\">\n",
       "  <thead>\n",
       "    <tr style=\"text-align: right;\">\n",
       "      <th></th>\n",
       "      <th>co2</th>\n",
       "      <th>for</th>\n",
       "      <th>glc</th>\n",
       "      <th>glu</th>\n",
       "      <th>h</th>\n",
       "      <th>h2o</th>\n",
       "      <th>nh4</th>\n",
       "      <th>o2</th>\n",
       "      <th>levdopa</th>\n",
       "    </tr>\n",
       "  </thead>\n",
       "  <tbody>\n",
       "    <tr>\n",
       "      <th>fluxes</th>\n",
       "      <td>659.676219</td>\n",
       "      <td>484.244776</td>\n",
       "      <td>-10.0</td>\n",
       "      <td>-494.748259</td>\n",
       "      <td>-350.827264</td>\n",
       "      <td>442.30209</td>\n",
       "      <td>340.323781</td>\n",
       "      <td>-654.424478</td>\n",
       "      <td>154.424478</td>\n",
       "    </tr>\n",
       "  </tbody>\n",
       "</table>\n",
       "</div>"
      ],
      "text/plain": [
       "               co2         for   glc         glu           h        h2o  \\\n",
       "fluxes  659.676219  484.244776 -10.0 -494.748259 -350.827264  442.30209   \n",
       "\n",
       "               nh4          o2     levdopa  \n",
       "fluxes  340.323781 -654.424478  154.424478  "
      ]
     },
     "metadata": {},
     "output_type": "display_data"
    }
   ],
   "source": [
    "print('Stoichiometric Matrix')\n",
    "display(S)\n",
    "print('Aerobic Solution Exchange Fluxes (mM/min)')\n",
    "display(solution_exchanges.T)\n",
    "print('Aerobic + Glutamate Solution Exchange Fluxes (mM/min)')\n",
    "display(solution_glu_exchanges.T)"
   ]
  },
  {
   "cell_type": "markdown",
   "metadata": {},
   "source": [
    "## Balance Checking\n",
    "\n",
    "Now, we'll verify that all elemental balances are satisfied for each of our flux balance analysis solutions. (Checking all elemental balances will also ensure our redox balance works out!)\n",
    "\n",
    "A valid flux solution $q$ will satisfy $Sq=0$, where $S$ is the species stoichiometric matrix."
   ]
  },
  {
   "cell_type": "code",
   "execution_count": 3,
   "metadata": {},
   "outputs": [
    {
     "name": "stdout",
     "output_type": "stream",
     "text": [
      "Aerobic Solution Element Balance (mM/min)\n"
     ]
    },
    {
     "data": {
      "text/html": [
       "<div>\n",
       "<style scoped>\n",
       "    .dataframe tbody tr th:only-of-type {\n",
       "        vertical-align: middle;\n",
       "    }\n",
       "\n",
       "    .dataframe tbody tr th {\n",
       "        vertical-align: top;\n",
       "    }\n",
       "\n",
       "    .dataframe thead th {\n",
       "        text-align: right;\n",
       "    }\n",
       "</style>\n",
       "<table border=\"1\" class=\"dataframe\">\n",
       "  <thead>\n",
       "    <tr style=\"text-align: right;\">\n",
       "      <th></th>\n",
       "      <th>fluxes</th>\n",
       "    </tr>\n",
       "  </thead>\n",
       "  <tbody>\n",
       "    <tr>\n",
       "      <th>c</th>\n",
       "      <td>-4.440892e-15</td>\n",
       "    </tr>\n",
       "    <tr>\n",
       "      <th>h</th>\n",
       "      <td>-4.174439e-14</td>\n",
       "    </tr>\n",
       "    <tr>\n",
       "      <th>o</th>\n",
       "      <td>-7.105427e-15</td>\n",
       "    </tr>\n",
       "    <tr>\n",
       "      <th>n</th>\n",
       "      <td>0.000000e+00</td>\n",
       "    </tr>\n",
       "  </tbody>\n",
       "</table>\n",
       "</div>"
      ],
      "text/plain": [
       "         fluxes\n",
       "c -4.440892e-15\n",
       "h -4.174439e-14\n",
       "o -7.105427e-15\n",
       "n  0.000000e+00"
      ]
     },
     "metadata": {},
     "output_type": "display_data"
    }
   ],
   "source": [
    "print('Aerobic Solution Element Balance (mM/min)')\n",
    "display(S[solution_exchanges.index] @ solution_exchanges)"
   ]
  },
  {
   "cell_type": "code",
   "execution_count": 4,
   "metadata": {},
   "outputs": [
    {
     "name": "stdout",
     "output_type": "stream",
     "text": [
      "Aerobic Solution + Glutamate Element Balance (mM/min)\n"
     ]
    },
    {
     "data": {
      "text/html": [
       "<div>\n",
       "<style scoped>\n",
       "    .dataframe tbody tr th:only-of-type {\n",
       "        vertical-align: middle;\n",
       "    }\n",
       "\n",
       "    .dataframe tbody tr th {\n",
       "        vertical-align: top;\n",
       "    }\n",
       "\n",
       "    .dataframe thead th {\n",
       "        text-align: right;\n",
       "    }\n",
       "</style>\n",
       "<table border=\"1\" class=\"dataframe\">\n",
       "  <thead>\n",
       "    <tr style=\"text-align: right;\">\n",
       "      <th></th>\n",
       "      <th>fluxes</th>\n",
       "    </tr>\n",
       "  </thead>\n",
       "  <tbody>\n",
       "    <tr>\n",
       "      <th>c</th>\n",
       "      <td>7.105427e-13</td>\n",
       "    </tr>\n",
       "    <tr>\n",
       "      <th>h</th>\n",
       "      <td>1.222134e-12</td>\n",
       "    </tr>\n",
       "    <tr>\n",
       "      <th>o</th>\n",
       "      <td>-1.136868e-13</td>\n",
       "    </tr>\n",
       "    <tr>\n",
       "      <th>n</th>\n",
       "      <td>8.526513e-14</td>\n",
       "    </tr>\n",
       "  </tbody>\n",
       "</table>\n",
       "</div>"
      ],
      "text/plain": [
       "         fluxes\n",
       "c  7.105427e-13\n",
       "h  1.222134e-12\n",
       "o -1.136868e-13\n",
       "n  8.526513e-14"
      ]
     },
     "metadata": {},
     "output_type": "display_data"
    }
   ],
   "source": [
    "print('Aerobic Solution + Glutamate Element Balance (mM/min)')\n",
    "display(S[solution_glu_exchanges.index] @ solution_glu_exchanges)"
   ]
  },
  {
   "cell_type": "markdown",
   "metadata": {},
   "source": [
    "In conclusion, it looks like all of our elemnental balances are closed within floating point arithemtic error!"
   ]
  },
  {
   "cell_type": "markdown",
   "metadata": {},
   "source": [
    "## Black-Box Maximum Theoretical Pathway Yield\n",
    "\n",
    "Before \"opening the box\" and looking into pathway details, what is the maximum yield of levdopa from glucose (and either glutamate or ammonia as a carbon source?)\n",
    "\n",
    "We'll determine this by balancing our reaction using matrices. We'll obtain a stoichiometric matrix $S$ of glucose, levdopa, and water, ammonia, and carbon dioxide to balance the pathway as redox-neutral compounds. We know that we can multiply this stocihiometry matrix by a flux vector $q$ such that $Sq=0$.\n",
    "\n",
    "We'll balance this reaction by splitting our stoichiometry matrix into $S_{meas}$ and $S_{calc}$. We'll define our $S_{meas}$ to contain only glucose, and we'll define its flux to be -1. Then, our $S_{calc}$ will contain levdopa, water, ammonia, and carbon dioxide and should be invertible. We can then calculate the fluxes of the calculated species as $q_{calc}=-S_{calc}^{-1}S_{meas}q_{meas}$."
   ]
  },
  {
   "cell_type": "code",
   "execution_count": 5,
   "metadata": {},
   "outputs": [
    {
     "data": {
      "text/html": [
       "<div>\n",
       "<style scoped>\n",
       "    .dataframe tbody tr th:only-of-type {\n",
       "        vertical-align: middle;\n",
       "    }\n",
       "\n",
       "    .dataframe tbody tr th {\n",
       "        vertical-align: top;\n",
       "    }\n",
       "\n",
       "    .dataframe thead th {\n",
       "        text-align: right;\n",
       "    }\n",
       "</style>\n",
       "<table border=\"1\" class=\"dataframe\">\n",
       "  <thead>\n",
       "    <tr style=\"text-align: right;\">\n",
       "      <th></th>\n",
       "      <th>Flux</th>\n",
       "    </tr>\n",
       "  </thead>\n",
       "  <tbody>\n",
       "    <tr>\n",
       "      <th>h2o</th>\n",
       "      <td>3.333333</td>\n",
       "    </tr>\n",
       "    <tr>\n",
       "      <th>nh3</th>\n",
       "      <td>-0.666667</td>\n",
       "    </tr>\n",
       "    <tr>\n",
       "      <th>levdopa</th>\n",
       "      <td>0.666667</td>\n",
       "    </tr>\n",
       "    <tr>\n",
       "      <th>co2</th>\n",
       "      <td>0.000000</td>\n",
       "    </tr>\n",
       "  </tbody>\n",
       "</table>\n",
       "</div>"
      ],
      "text/plain": [
       "             Flux\n",
       "h2o      3.333333\n",
       "nh3     -0.666667\n",
       "levdopa  0.666667\n",
       "co2      0.000000"
      ]
     },
     "execution_count": 5,
     "metadata": {},
     "output_type": "execute_result"
    }
   ],
   "source": [
    "S_meas = S[['glc']]\n",
    "S_calc = S[['h2o','nh4','levdopa','co2']]\n",
    "#Change our stoichiometry matrix to ammonia, not ammonium. Ammonium was used by the BiGG model for FBA,\n",
    "#but is not redox-neutral for this analysis!\n",
    "S_calc.at['h','nh4'] = 3\n",
    "S_calc.columns = ['h2o','nh3','levdopa','co2']\n",
    "v_meas = pd.DataFrame(np.array([-1]) , index = ['glc'])\n",
    "v_calc = -1* np.linalg.inv(S_calc) @ S_meas @ v_meas\n",
    "v_calc.index = ['h2o','nh3','levdopa','co2']\n",
    "v_calc.columns = ['Flux']\n",
    "v_calc"
   ]
  },
  {
   "cell_type": "markdown",
   "metadata": {},
   "source": [
    "$3\\ Glucose + 2\\ NH_3 \\rightarrow 10\\ H_2O + 2\\ levdopa$.\n",
    "\n",
    "Our maximum theoretical yield coefficients are therefore:\n",
    "\n",
    "$Y_{ldopa/glu}=0.667\\ mol/mol=1\\ cmol/cmol$\n",
    "\n",
    "$Y_{ldopa/NH3}=1\\ mol/mol$"
   ]
  },
  {
   "cell_type": "markdown",
   "metadata": {},
   "source": [
    "Now, what if glutamate is our nitrogen source instead of ammonia?"
   ]
  },
  {
   "cell_type": "code",
   "execution_count": 6,
   "metadata": {},
   "outputs": [
    {
     "data": {
      "text/html": [
       "<div>\n",
       "<style scoped>\n",
       "    .dataframe tbody tr th:only-of-type {\n",
       "        vertical-align: middle;\n",
       "    }\n",
       "\n",
       "    .dataframe tbody tr th {\n",
       "        vertical-align: top;\n",
       "    }\n",
       "\n",
       "    .dataframe thead th {\n",
       "        text-align: right;\n",
       "    }\n",
       "</style>\n",
       "<table border=\"1\" class=\"dataframe\">\n",
       "  <thead>\n",
       "    <tr style=\"text-align: right;\">\n",
       "      <th></th>\n",
       "      <th>Flux</th>\n",
       "    </tr>\n",
       "  </thead>\n",
       "  <tbody>\n",
       "    <tr>\n",
       "      <th>h2o</th>\n",
       "      <td>4.666667</td>\n",
       "    </tr>\n",
       "    <tr>\n",
       "      <th>glu</th>\n",
       "      <td>-1.333333</td>\n",
       "    </tr>\n",
       "    <tr>\n",
       "      <th>levdopa</th>\n",
       "      <td>1.333333</td>\n",
       "    </tr>\n",
       "    <tr>\n",
       "      <th>co2</th>\n",
       "      <td>0.666667</td>\n",
       "    </tr>\n",
       "  </tbody>\n",
       "</table>\n",
       "</div>"
      ],
      "text/plain": [
       "             Flux\n",
       "h2o      4.666667\n",
       "glu     -1.333333\n",
       "levdopa  1.333333\n",
       "co2      0.666667"
      ]
     },
     "execution_count": 6,
     "metadata": {},
     "output_type": "execute_result"
    }
   ],
   "source": [
    "S_meas = S[['glc']]\n",
    "S_calc = S[['h2o','glu','levdopa','co2']]\n",
    "#Use the neutral glutamaic acid, not the glutamate anion, for this initial black box balancing.\n",
    "S_calc.at['h','glu'] = S_calc.at['h','glu'] + 1\n",
    "S_calc.columns = ['h2o','nh3','levdopa','co2']\n",
    "v_meas = pd.DataFrame(np.array([-1]) , index = ['glc'])\n",
    "v_calc = -1* np.linalg.inv(S_calc) @ S_meas @ v_meas\n",
    "v_calc.index = ['h2o','glu','levdopa','co2']\n",
    "v_calc.columns = ['Flux']\n",
    "v_calc"
   ]
  },
  {
   "cell_type": "markdown",
   "metadata": {},
   "source": [
    "$3\\ Glucose + 4\\ Glu \\rightarrow 2\\ CO_2 + 14\\ H_2O + 4\\ levdopa$.\n",
    "\n",
    "Our maximum theoretical yield coefficients are therefore:\n",
    "\n",
    "$Y_{ldopa/glu}=1.33\\ mol/mol$\n",
    "\n",
    "$Y_{ldopa/total\\ carbon\\ input}=0.947\\ cmol/cmol$\n",
    "\n",
    "$Y_{ldopa/glu}=1\\ mol/mol$"
   ]
  }
 ],
 "metadata": {
  "kernelspec": {
   "display_name": "Python 3",
   "language": "python",
   "name": "python3"
  },
  "language_info": {
   "codemirror_mode": {
    "name": "ipython",
    "version": 3
   },
   "file_extension": ".py",
   "mimetype": "text/x-python",
   "name": "python",
   "nbconvert_exporter": "python",
   "pygments_lexer": "ipython3",
   "version": "3.7.6"
  }
 },
 "nbformat": 4,
 "nbformat_minor": 4
}
