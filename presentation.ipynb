{
 "cells": [
  {
   "cell_type": "markdown",
   "metadata": {
    "slideshow": {
     "slide_type": "slide"
    }
   },
   "source": [
    "# L-DOPA Synthesis in _E. coli_: Review, Analysis, and Future Directions\n",
    "#### Russell O. Stewart\n",
    "#### ENGS 161\n",
    "#### 20W\n",
    "#### Final Project"
   ]
  },
  {
   "cell_type": "markdown",
   "metadata": {
    "slideshow": {
     "slide_type": "slide"
    }
   },
   "source": [
    "# Road Map\n",
    "\n",
    "* Introduction\n",
    "    * Background\n",
    "    * Previous Synthetic Attempts\n",
    "* Resources and Methods\n",
    "* Analysis\n",
    "    * Black Box Stoichiometry\n",
    "    * Flux Balance Analysis\n",
    "    * Balance Double-Check\n",
    "    * Thermodynamics\n",
    "* Conclusions and Future Directions\n",
    "    * Re-Evaluation of Previous Synthetic Attempts\n",
    "    * Future Directions"
   ]
  },
  {
   "cell_type": "markdown",
   "metadata": {
    "slideshow": {
     "slide_type": "slide"
    }
   },
   "source": [
    "# Background"
   ]
  },
  {
   "cell_type": "markdown",
   "metadata": {
    "slideshow": {
     "slide_type": "subslide"
    }
   },
   "source": [
    "# L-DOPA, Derivatives and their Pharmacologic Applications\n",
    "\n",
    "![Image](external_figures/l_dopa_derivatives.png)"
   ]
  },
  {
   "cell_type": "markdown",
   "metadata": {
    "slideshow": {
     "slide_type": "subslide"
    }
   },
   "source": [
    "# Synthesis in _E. coli_: The Shikimate Pathway\n",
    "![Image](external_figures/Shikimate-pathway-modified-from-Bentley-1990-Schmid-and-Amrhein-1995.png)"
   ]
  },
  {
   "cell_type": "markdown",
   "metadata": {
    "slideshow": {
     "slide_type": "slide"
    }
   },
   "source": [
    "# Previous Biosynthetic Attempts in _E. coli_"
   ]
  },
  {
   "cell_type": "markdown",
   "metadata": {
    "slideshow": {
     "slide_type": "subslide"
    }
   },
   "source": [
    "# Munoz et al, 2011\n",
    "![Image](external_figures/munoz_shikimate_pathway.png)"
   ]
  },
  {
   "cell_type": "markdown",
   "metadata": {
    "slideshow": {
     "slide_type": "subslide"
    }
   },
   "source": [
    "# Wei et al, 2016\n",
    "\n",
    "![Image](external_figures/wei_synthetic_pathway.png)"
   ]
  },
  {
   "cell_type": "markdown",
   "metadata": {
    "slideshow": {
     "slide_type": "slide"
    }
   },
   "source": [
    "# Resources and Methods"
   ]
  },
  {
   "cell_type": "markdown",
   "metadata": {
    "slideshow": {
     "slide_type": "subslide"
    }
   },
   "source": [
    "![Image](figures/bigg_map.png)"
   ]
  },
  {
   "cell_type": "markdown",
   "metadata": {
    "slideshow": {
     "slide_type": "slide"
    }
   },
   "source": [
    "# Black-Box Stoichiometry\n",
    "\n",
    "* **_What is the maximum theoretical yield of L-DOPA from glucose?_**\n",
    "* **_What are feasible sources of nitrogen for our synthesis?_**\n",
    "\n",
    "Obtain a stoichiometric matrix $S$ of glucose, L-DOPA, and $H_2O$, $NH_3$, and $CO_2$\n",
    "\n",
    "Define our flux vector $q$\n",
    "\n",
    "$Sq=0$\n",
    "\n",
    "$q_{calc}=-S_{calc}^{-1}S_{meas}q_{meas}$\n",
    "\n",
    "Measured flux: glucose (-1). Unmeasured fluxes: all others."
   ]
  },
  {
   "cell_type": "code",
   "execution_count": 5,
   "metadata": {
    "slideshow": {
     "slide_type": "subslide"
    }
   },
   "outputs": [
    {
     "name": "stdout",
     "output_type": "stream",
     "text": [
      "Stoichiometric Matrix\n"
     ]
    },
    {
     "data": {
      "text/html": [
       "<div>\n",
       "<style scoped>\n",
       "    .dataframe tbody tr th:only-of-type {\n",
       "        vertical-align: middle;\n",
       "    }\n",
       "\n",
       "    .dataframe tbody tr th {\n",
       "        vertical-align: top;\n",
       "    }\n",
       "\n",
       "    .dataframe thead th {\n",
       "        text-align: right;\n",
       "    }\n",
       "</style>\n",
       "<table border=\"1\" class=\"dataframe\">\n",
       "  <thead>\n",
       "    <tr style=\"text-align: right;\">\n",
       "      <th></th>\n",
       "      <th>co2</th>\n",
       "      <th>for</th>\n",
       "      <th>glc</th>\n",
       "      <th>glu</th>\n",
       "      <th>h</th>\n",
       "      <th>h2o</th>\n",
       "      <th>o2</th>\n",
       "      <th>levdopa</th>\n",
       "      <th>nh4</th>\n",
       "    </tr>\n",
       "  </thead>\n",
       "  <tbody>\n",
       "    <tr>\n",
       "      <th>c</th>\n",
       "      <td>1</td>\n",
       "      <td>1</td>\n",
       "      <td>6</td>\n",
       "      <td>5</td>\n",
       "      <td>0</td>\n",
       "      <td>0</td>\n",
       "      <td>0</td>\n",
       "      <td>9</td>\n",
       "      <td>0</td>\n",
       "    </tr>\n",
       "    <tr>\n",
       "      <th>h</th>\n",
       "      <td>0</td>\n",
       "      <td>1</td>\n",
       "      <td>12</td>\n",
       "      <td>8</td>\n",
       "      <td>1</td>\n",
       "      <td>2</td>\n",
       "      <td>0</td>\n",
       "      <td>11</td>\n",
       "      <td>4</td>\n",
       "    </tr>\n",
       "    <tr>\n",
       "      <th>o</th>\n",
       "      <td>2</td>\n",
       "      <td>2</td>\n",
       "      <td>6</td>\n",
       "      <td>4</td>\n",
       "      <td>0</td>\n",
       "      <td>1</td>\n",
       "      <td>2</td>\n",
       "      <td>4</td>\n",
       "      <td>0</td>\n",
       "    </tr>\n",
       "    <tr>\n",
       "      <th>n</th>\n",
       "      <td>0</td>\n",
       "      <td>0</td>\n",
       "      <td>0</td>\n",
       "      <td>1</td>\n",
       "      <td>0</td>\n",
       "      <td>0</td>\n",
       "      <td>0</td>\n",
       "      <td>1</td>\n",
       "      <td>1</td>\n",
       "    </tr>\n",
       "  </tbody>\n",
       "</table>\n",
       "</div>"
      ],
      "text/plain": [
       "   co2  for  glc  glu  h  h2o  o2  levdopa  nh4\n",
       "c    1    1    6    5  0    0   0        9    0\n",
       "h    0    1   12    8  1    2   0       11    4\n",
       "o    2    2    6    4  0    1   2        4    0\n",
       "n    0    0    0    1  0    0   0        1    1"
      ]
     },
     "metadata": {},
     "output_type": "display_data"
    }
   ],
   "source": [
    "%matplotlib inline\n",
    "import pandas as pd\n",
    "import numpy as np\n",
    "import matplotlib.pyplot as plt\n",
    "import re\n",
    "solution = pd.read_csv('FBA_results/aerobic.csv' , index_col = 0)\n",
    "solution_glu = pd.read_csv('FBA_results/aerobic_glutamate.csv' , index_col = 0)\n",
    "solution_exchanges = solution[solution.index.str.contains('EX_')]\n",
    "solution_glu_exchanges = solution_glu[solution_glu.index.str.contains('EX_')]\n",
    "solution_exchanges = solution_exchanges.query('abs(fluxes) > .0000000001')\n",
    "solution_glu_exchanges = solution_glu_exchanges.query('abs(fluxes) > .0000000001')\n",
    "solution_index = [re.search(r\"_[^_]+_{1}\",i).group() for i in solution_exchanges.index]\n",
    "solution_index = [i[1:len(i)-1] for i in solution_index]\n",
    "solution_exchanges.index = solution_index\n",
    "solution_glu_index = [re.search(r\"_[^_]+_{1}\",i).group() for i in solution_glu_exchanges.index]\n",
    "solution_glu_index = [i[1:len(i)-1] for i in solution_glu_index]\n",
    "solution_glu_exchanges.index = solution_glu_index\n",
    "S = pd.read_excel('exchange_stoichiometries.xls' , index_col = 0)\n",
    "print('Stoichiometric Matrix')\n",
    "display(S)"
   ]
  },
  {
   "cell_type": "markdown",
   "metadata": {
    "slideshow": {
     "slide_type": "subslide"
    }
   },
   "source": [
    "# Glucose as Carbon Source, Ammonia as Nitrogen Source"
   ]
  },
  {
   "cell_type": "code",
   "execution_count": 3,
   "metadata": {},
   "outputs": [
    {
     "data": {
      "text/html": [
       "<div>\n",
       "<style scoped>\n",
       "    .dataframe tbody tr th:only-of-type {\n",
       "        vertical-align: middle;\n",
       "    }\n",
       "\n",
       "    .dataframe tbody tr th {\n",
       "        vertical-align: top;\n",
       "    }\n",
       "\n",
       "    .dataframe thead th {\n",
       "        text-align: right;\n",
       "    }\n",
       "</style>\n",
       "<table border=\"1\" class=\"dataframe\">\n",
       "  <thead>\n",
       "    <tr style=\"text-align: right;\">\n",
       "      <th></th>\n",
       "      <th>Flux</th>\n",
       "    </tr>\n",
       "  </thead>\n",
       "  <tbody>\n",
       "    <tr>\n",
       "      <th>h2o</th>\n",
       "      <td>3.333333</td>\n",
       "    </tr>\n",
       "    <tr>\n",
       "      <th>nh3</th>\n",
       "      <td>-0.666667</td>\n",
       "    </tr>\n",
       "    <tr>\n",
       "      <th>levdopa</th>\n",
       "      <td>0.666667</td>\n",
       "    </tr>\n",
       "    <tr>\n",
       "      <th>co2</th>\n",
       "      <td>0.000000</td>\n",
       "    </tr>\n",
       "  </tbody>\n",
       "</table>\n",
       "</div>"
      ],
      "text/plain": [
       "             Flux\n",
       "h2o      3.333333\n",
       "nh3     -0.666667\n",
       "levdopa  0.666667\n",
       "co2      0.000000"
      ]
     },
     "execution_count": 3,
     "metadata": {},
     "output_type": "execute_result"
    }
   ],
   "source": [
    "S_meas = S[['glc']]\n",
    "S_calc = S[['h2o','nh4','levdopa','co2']]\n",
    "S_calc.at['h','nh4'] = 3#Use ammonia, not ammonium!\n",
    "S_calc.columns = ['h2o','nh3','levdopa','co2']\n",
    "v_meas = pd.DataFrame(np.array([-1]) , index = ['glc'])\n",
    "v_calc = -1* np.linalg.inv(S_calc) @ S_meas @ v_meas\n",
    "v_calc.index = ['h2o','nh3','levdopa','co2']\n",
    "v_calc.columns = ['Flux']\n",
    "v_calc"
   ]
  },
  {
   "cell_type": "markdown",
   "metadata": {},
   "source": [
    "$3\\ Glucose + 2\\ NH_3 \\rightarrow 10\\ H_2O + 2\\ levdopa$.\n",
    "\n",
    "$Y_{ldopa/glu}=0.667\\ mol/mol=1\\ cmol/cmol$\n",
    "\n",
    "$Y_{ldopa/NH3}=1\\ mol/mol$"
   ]
  },
  {
   "cell_type": "markdown",
   "metadata": {
    "slideshow": {
     "slide_type": "subslide"
    }
   },
   "source": [
    "# Glucose as Carbon Source, Glutamate as Nitrogen Source"
   ]
  },
  {
   "cell_type": "code",
   "execution_count": 6,
   "metadata": {},
   "outputs": [
    {
     "data": {
      "text/html": [
       "<div>\n",
       "<style scoped>\n",
       "    .dataframe tbody tr th:only-of-type {\n",
       "        vertical-align: middle;\n",
       "    }\n",
       "\n",
       "    .dataframe tbody tr th {\n",
       "        vertical-align: top;\n",
       "    }\n",
       "\n",
       "    .dataframe thead th {\n",
       "        text-align: right;\n",
       "    }\n",
       "</style>\n",
       "<table border=\"1\" class=\"dataframe\">\n",
       "  <thead>\n",
       "    <tr style=\"text-align: right;\">\n",
       "      <th></th>\n",
       "      <th>Flux</th>\n",
       "    </tr>\n",
       "  </thead>\n",
       "  <tbody>\n",
       "    <tr>\n",
       "      <th>h2o</th>\n",
       "      <td>4.666667</td>\n",
       "    </tr>\n",
       "    <tr>\n",
       "      <th>glu</th>\n",
       "      <td>-1.333333</td>\n",
       "    </tr>\n",
       "    <tr>\n",
       "      <th>levdopa</th>\n",
       "      <td>1.333333</td>\n",
       "    </tr>\n",
       "    <tr>\n",
       "      <th>co2</th>\n",
       "      <td>0.666667</td>\n",
       "    </tr>\n",
       "  </tbody>\n",
       "</table>\n",
       "</div>"
      ],
      "text/plain": [
       "             Flux\n",
       "h2o      4.666667\n",
       "glu     -1.333333\n",
       "levdopa  1.333333\n",
       "co2      0.666667"
      ]
     },
     "execution_count": 6,
     "metadata": {},
     "output_type": "execute_result"
    }
   ],
   "source": [
    "S_meas = S[['glc']]\n",
    "S_calc = S[['h2o','glu','levdopa','co2']]\n",
    "S_calc.at['h','glu'] = S_calc.at['h','glu'] + 1#Use glutamic acid, not glutamate!\n",
    "S_calc.columns = ['h2o','nh3','levdopa','co2']\n",
    "v_meas = pd.DataFrame(np.array([-1]) , index = ['glc'])\n",
    "v_calc = -1* np.linalg.inv(S_calc) @ S_meas @ v_meas\n",
    "v_calc.index = ['h2o','glu','levdopa','co2']\n",
    "v_calc.columns = ['Flux']\n",
    "v_calc"
   ]
  },
  {
   "cell_type": "markdown",
   "metadata": {},
   "source": [
    "$3\\ Glucose + 4\\ Glu \\rightarrow 2\\ CO_2 + 14\\ H_2O + 4\\ levdopa$.\n",
    "\n",
    "$Y_{ldopa/glu}=1.33\\ mol/mol$\n",
    "\n",
    "$Y_{ldopa/total\\ carbon\\ input}=0.947\\ cmol/cmol$\n",
    "\n",
    "$Y_{ldopa/glu}=1\\ mol/mol$"
   ]
  },
  {
   "cell_type": "markdown",
   "metadata": {
    "slideshow": {
     "slide_type": "slide"
    }
   },
   "source": [
    "# Flux Balance Analysis\n",
    "\n",
    "* **_On which pathways will this synthesis depend?_**\n",
    "* **_Does our maximum yield drop at all?_**\n",
    "* **_Does this inform our growth conditions?_**\n",
    "\n",
    "Run flux balance analysis using `cobra`, and display our results using `escher`"
   ]
  },
  {
   "cell_type": "code",
   "execution_count": 7,
   "metadata": {
    "scrolled": true,
    "slideshow": {
     "slide_type": "subslide"
    }
   },
   "outputs": [
    {
     "name": "stdout",
     "output_type": "stream",
     "text": [
      "unknown metabolite 'dahp_c' created\n",
      "unknown metabolite 'dhq_c' created\n",
      "unknown metabolite '3dhs_c' created\n",
      "unknown metabolite 'shikimate_c' created\n",
      "unknown metabolite 'shikimate3p_c' created\n",
      "unknown metabolite 'epsp_c' created\n",
      "unknown metabolite 'chorismate_c' created\n",
      "unknown metabolite 'prephenate_c' created\n",
      "unknown metabolite '4hppa_c' created\n",
      "unknown metabolite 'tyr__L_c' created\n",
      "unknown metabolite 'levdopa_c' created\n",
      "unknown metabolite 'levdopa_e' created\n"
     ]
    }
   ],
   "source": [
    "#load up everything\n",
    "%matplotlib inline\n",
    "import cobra\n",
    "from cobra import Model, Reaction, Metabolite\n",
    "cobra_config = cobra.Configuration()\n",
    "import escher\n",
    "from escher import Builder\n",
    "import pandas as pd\n",
    "import numpy as np\n",
    "import matplotlib.pyplot as plt\n",
    "from time import sleep\n",
    "import cobra.test\n",
    "from cobra.flux_analysis import (\n",
    "    single_gene_deletion, single_reaction_deletion, double_gene_deletion,double_reaction_deletion)\n",
    "\n",
    "network = pd.read_csv('shikimate_reactions.csv' , header=0)#shikimate related reactions to add\n",
    "sinks = pd.read_csv('sinks.csv' , header=0)#sinks to add\n",
    "\n",
    "levdopa_synthesis = cobra.io.load_json_model(\"e_coli_core.json\")#e coli central metabolism model from BiGG\n",
    "#levdopa_synthesis.solver = 'cplex'\n",
    "\n",
    "#define intracellular reactions not in central metabolism model\n",
    "for (myenzyme , mypathway , myreaction) in network.itertuples(index = False):\n",
    "    rxn = Reaction(myenzyme)\n",
    "    levdopa_synthesis.add_reactions([rxn])\n",
    "    rxn.name = myenzyme\n",
    "    rxn.subsystem = mypathway\n",
    "    rxn.build_reaction_from_string(myreaction)\n",
    "\n",
    "#define extra transport reactions not in central metabolism model\n",
    "for (mymetabolite , mydirection) in sinks.itertuples(index = False):\n",
    "    myreaction = '%s -->' % mymetabolite\n",
    "    rxn = Reaction('EX_%s' % mymetabolite)\n",
    "    levdopa_synthesis.add_reactions([rxn])\n",
    "    rxn.subsystem = 'Extracellular exchange'\n",
    "    rxn.name = '%s_transport' % mymetabolite\n",
    "    rxn.build_reaction_from_string(myreaction)\n",
    "    rxn.lower_bound = 0.\n",
    "    rxn.upper_bound = 1000."
   ]
  },
  {
   "cell_type": "code",
   "execution_count": 9,
   "metadata": {
    "slideshow": {
     "slide_type": "subslide"
    }
   },
   "outputs": [
    {
     "name": "stdout",
     "output_type": "stream",
     "text": [
      "Yield of levdopa from glucose: 0.508230 mol/mol; 0.762345 cmol/cmol\n",
      "Yield of levdopa from ammonia: 1.000000 mol/mol\n"
     ]
    }
   ],
   "source": [
    "levdopa_synthesis.objective = 'EX_levdopa_e'#maximize L-DOPA production\n",
    "builder = Builder(map_json = 'full_map.json')\n",
    "builder.model = levdopa_synthesis\n",
    "builder.highlight_missing = True\n",
    "solution = builder.model.optimize()\n",
    "builder.reaction_data = solution.fluxes/ abs(solution['EX_glc__D_e'])\n",
    "Y_ldopa_glc = solution['EX_levdopa_e']/abs(solution['EX_glc__D_e'])\n",
    "Y_ldopa_nh4 = solution['EX_levdopa_e']/abs(solution['EX_nh4_e'])\n",
    "print('Yield of levdopa from glucose: %f mol/mol; %f cmol/cmol' % (Y_ldopa_glc , 9/6*Y_ldopa_glc))\n",
    "print('Yield of levdopa from ammonia: %f mol/mol' % Y_ldopa_nh4)"
   ]
  },
  {
   "cell_type": "markdown",
   "metadata": {
    "slideshow": {
     "slide_type": "subslide"
    }
   },
   "source": [
    "![Image](Escher_Maps/aerobic_fba.png)"
   ]
  }
 ],
 "metadata": {
  "kernelspec": {
   "display_name": "Python 3",
   "language": "python",
   "name": "python3"
  },
  "language_info": {
   "codemirror_mode": {
    "name": "ipython",
    "version": 3
   },
   "file_extension": ".py",
   "mimetype": "text/x-python",
   "name": "python",
   "nbconvert_exporter": "python",
   "pygments_lexer": "ipython3",
   "version": "3.7.6"
  }
 },
 "nbformat": 4,
 "nbformat_minor": 4
}
