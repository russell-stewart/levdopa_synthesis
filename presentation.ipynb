{
 "cells": [
  {
   "cell_type": "markdown",
   "metadata": {
    "slideshow": {
     "slide_type": "slide"
    }
   },
   "source": [
    "# L-DOPA Synthesis in _E. coli_: Review, Analysis, and Future Directions\n",
    "#### Russell O. Stewart\n",
    "#### ENGS 161\n",
    "#### 20W\n",
    "#### Final Project"
   ]
  },
  {
   "cell_type": "markdown",
   "metadata": {
    "slideshow": {
     "slide_type": "slide"
    }
   },
   "source": [
    "# Road Map\n",
    "\n",
    "* Introduction\n",
    "    * Background\n",
    "    * Previous Synthetic Attempts\n",
    "* Resources and Methods\n",
    "* Analysis\n",
    "    * Black Box Stoichiometry\n",
    "    * Flux Balance Analysis\n",
    "    * Balance Sanity Check\n",
    "    * Thermodynamics\n",
    "* Conclusions and Future Directions\n",
    "    * Re-Evaluation of Previous Synthetic Attempts\n",
    "    * Future Directions"
   ]
  },
  {
   "cell_type": "markdown",
   "metadata": {
    "slideshow": {
     "slide_type": "slide"
    }
   },
   "source": [
    "# Background"
   ]
  },
  {
   "cell_type": "markdown",
   "metadata": {
    "slideshow": {
     "slide_type": "subslide"
    }
   },
   "source": [
    "# L-DOPA, Derivatives and their Pharmacologic Applications\n",
    "\n",
    "![Image](external_figures/l_dopa_derivatives.png)"
   ]
  },
  {
   "cell_type": "markdown",
   "metadata": {
    "slideshow": {
     "slide_type": "notes"
    }
   },
   "source": [
    "L-DOPA: Stimulatory monoamine neurotransmitter. Basis of other very important monoamines, like dopamine, and glucocorticoids, like epinephrine and norepinephrine.\n",
    "\n",
    "In humans: biosynthesized from tyrosine. Tyrosine itself is synthesized from phenylalanine, which is an essential amino acid. (I.E: Humans cannot synthesize L-DOPA _de novo_.)\n",
    "\n",
    "L-DOPA and derivatives have many pharmacological applications. L-DOPA is used in the treatment of Parkinson's Disease. Norepinephrine, as a glucocorticoid, is used to rapidly raise blood pressure in patients with sepsis. Epinephrine is used to treat anaphalaxyis and cardiac arrest (think epi pens!)\n",
    "\n",
    "Standard way to make L-DOPA, patented by Monsanto, is asymmetric hydrogenation. However, the enantioselectivity of this is apparently pretty garbage, making the process quite inefficient."
   ]
  },
  {
   "cell_type": "markdown",
   "metadata": {
    "slideshow": {
     "slide_type": "subslide"
    }
   },
   "source": [
    "# Synthesis in _E. coli_: The Shikimate Pathway\n",
    "![Image](external_figures/Shikimate-pathway-modified-from-Bentley-1990-Schmid-and-Amrhein-1995.png)"
   ]
  },
  {
   "cell_type": "markdown",
   "metadata": {
    "slideshow": {
     "slide_type": "notes"
    }
   },
   "source": [
    "Unlike humans, autotrophs and some particularly independent heterotrophs like _E. Coli_ can synthesize all 3 aromatic amino acids _de novo_. They do so through the shikimate pathway.\n",
    "\n",
    "Needed inputs: E4P (we can get this through the PPP) and PEP (we can get this through glycolysis)"
   ]
  },
  {
   "cell_type": "markdown",
   "metadata": {
    "slideshow": {
     "slide_type": "subslide"
    }
   },
   "source": [
    "# The Final Step: hpaBC\n",
    "\n",
    "![Image](External_Figures/hpaBC_patent.png)\n",
    "\n",
    "_(US patent 06/014.1587A1)_"
   ]
  },
  {
   "cell_type": "markdown",
   "metadata": {
    "slideshow": {
     "slide_type": "slide"
    }
   },
   "source": [
    "# Previous Biosynthetic Attempts in _E. coli_"
   ]
  },
  {
   "cell_type": "markdown",
   "metadata": {
    "slideshow": {
     "slide_type": "subslide"
    }
   },
   "source": [
    "# Munoz et al, 2011: $Y_{ldopa/gluc}=0.074\\ cmol/cmol$\n",
    "![Image](external_figures/munoz_shikimate_pathway.png)"
   ]
  },
  {
   "cell_type": "markdown",
   "metadata": {
    "slideshow": {
     "slide_type": "notes"
    }
   },
   "source": [
    "Key Edits\n",
    "\n",
    "* Introduce galP in place of PEP-dependent glucose transport\n",
    "* Knock out tyrR, which exerts product feedback control on much of shikimate pathway\n",
    "* Extra, inducible copy of hpaBC\n",
    "* Feedback-insensitive chorismate mutase/prephenate dehydrogenase (same enzyme)"
   ]
  },
  {
   "cell_type": "markdown",
   "metadata": {
    "slideshow": {
     "slide_type": "subslide"
    }
   },
   "source": [
    "# Wei et al, 2016: $Y_{ldopa/gluc}=0.086\\ cmol/cmol$\n",
    "![Image](external_figures/wei_synthetic_pathway.png)"
   ]
  },
  {
   "cell_type": "markdown",
   "metadata": {
    "slideshow": {
     "slide_type": "notes"
    }
   },
   "source": [
    "Key Edits Beyond Munoz\n",
    "\n",
    "* Knock out oxidative pentose phosphate pathway\n",
    "* Knock out csrA, which does negative feedback inhibition in TCA cyle\n",
    "* Knock out pheLA to prevent phenylalanine synthesis\n",
    "* Multiplexed automated genome engineering: edit RBS'es, swap codons (to remove RNA-level control) in shikimate pathway enzymes (also transketolase)"
   ]
  },
  {
   "cell_type": "markdown",
   "metadata": {
    "slideshow": {
     "slide_type": "slide"
    }
   },
   "source": [
    "# Resources and Methods"
   ]
  },
  {
   "cell_type": "markdown",
   "metadata": {
    "slideshow": {
     "slide_type": "subslide"
    }
   },
   "source": [
    "![Image](figures/bigg_map.png)"
   ]
  },
  {
   "cell_type": "markdown",
   "metadata": {
    "slideshow": {
     "slide_type": "slide"
    }
   },
   "source": [
    "# Black-Box Stoichiometry\n",
    "\n",
    "* **_What is the maximum theoretical yield of L-DOPA from glucose?_**\n",
    "* **_What are feasible sources of nitrogen for our synthesis?_**\n",
    "\n",
    "Obtain a stoichiometric matrix $S$ of glucose, L-DOPA, and $H_2O$, $NH_3$, and $CO_2$\n",
    "\n",
    "Define our flux vector $q$\n",
    "\n",
    "$Sq=0$\n",
    "\n",
    "$q_{calc}=-S_{calc}^{-1}S_{meas}q_{meas}$\n",
    "\n",
    "Measured flux: glucose (-1). Unmeasured fluxes: all others."
   ]
  },
  {
   "cell_type": "markdown",
   "metadata": {
    "slideshow": {
     "slide_type": "subslide"
    }
   },
   "source": [
    "# Stoichiometric Matrix"
   ]
  },
  {
   "cell_type": "code",
   "execution_count": 28,
   "metadata": {},
   "outputs": [
    {
     "name": "stdout",
     "output_type": "stream",
     "text": [
      "Stoichiometric Matrix\n"
     ]
    },
    {
     "data": {
      "text/html": [
       "<div>\n",
       "<style scoped>\n",
       "    .dataframe tbody tr th:only-of-type {\n",
       "        vertical-align: middle;\n",
       "    }\n",
       "\n",
       "    .dataframe tbody tr th {\n",
       "        vertical-align: top;\n",
       "    }\n",
       "\n",
       "    .dataframe thead th {\n",
       "        text-align: right;\n",
       "    }\n",
       "</style>\n",
       "<table border=\"1\" class=\"dataframe\">\n",
       "  <thead>\n",
       "    <tr style=\"text-align: right;\">\n",
       "      <th></th>\n",
       "      <th>co2</th>\n",
       "      <th>for</th>\n",
       "      <th>glc</th>\n",
       "      <th>glu</th>\n",
       "      <th>h</th>\n",
       "      <th>h2o</th>\n",
       "      <th>o2</th>\n",
       "      <th>levdopa</th>\n",
       "      <th>nh4</th>\n",
       "    </tr>\n",
       "  </thead>\n",
       "  <tbody>\n",
       "    <tr>\n",
       "      <th>c</th>\n",
       "      <td>1</td>\n",
       "      <td>1</td>\n",
       "      <td>6</td>\n",
       "      <td>5</td>\n",
       "      <td>0</td>\n",
       "      <td>0</td>\n",
       "      <td>0</td>\n",
       "      <td>9</td>\n",
       "      <td>0</td>\n",
       "    </tr>\n",
       "    <tr>\n",
       "      <th>h</th>\n",
       "      <td>0</td>\n",
       "      <td>1</td>\n",
       "      <td>12</td>\n",
       "      <td>8</td>\n",
       "      <td>1</td>\n",
       "      <td>2</td>\n",
       "      <td>0</td>\n",
       "      <td>11</td>\n",
       "      <td>4</td>\n",
       "    </tr>\n",
       "    <tr>\n",
       "      <th>o</th>\n",
       "      <td>2</td>\n",
       "      <td>2</td>\n",
       "      <td>6</td>\n",
       "      <td>4</td>\n",
       "      <td>0</td>\n",
       "      <td>1</td>\n",
       "      <td>2</td>\n",
       "      <td>4</td>\n",
       "      <td>0</td>\n",
       "    </tr>\n",
       "    <tr>\n",
       "      <th>n</th>\n",
       "      <td>0</td>\n",
       "      <td>0</td>\n",
       "      <td>0</td>\n",
       "      <td>1</td>\n",
       "      <td>0</td>\n",
       "      <td>0</td>\n",
       "      <td>0</td>\n",
       "      <td>1</td>\n",
       "      <td>1</td>\n",
       "    </tr>\n",
       "  </tbody>\n",
       "</table>\n",
       "</div>"
      ],
      "text/plain": [
       "   co2  for  glc  glu  h  h2o  o2  levdopa  nh4\n",
       "c    1    1    6    5  0    0   0        9    0\n",
       "h    0    1   12    8  1    2   0       11    4\n",
       "o    2    2    6    4  0    1   2        4    0\n",
       "n    0    0    0    1  0    0   0        1    1"
      ]
     },
     "metadata": {},
     "output_type": "display_data"
    }
   ],
   "source": [
    "%matplotlib inline\n",
    "import pandas as pd\n",
    "import numpy as np\n",
    "import matplotlib.pyplot as plt\n",
    "import re\n",
    "S = pd.read_excel('exchange_stoichiometries.xls' , index_col = 0)\n",
    "print('Stoichiometric Matrix')\n",
    "display(S)"
   ]
  },
  {
   "cell_type": "markdown",
   "metadata": {
    "slideshow": {
     "slide_type": "subslide"
    }
   },
   "source": [
    "# Glucose as Carbon Source, Ammonia as Nitrogen Source"
   ]
  },
  {
   "cell_type": "code",
   "execution_count": 29,
   "metadata": {},
   "outputs": [
    {
     "data": {
      "text/html": [
       "<div>\n",
       "<style scoped>\n",
       "    .dataframe tbody tr th:only-of-type {\n",
       "        vertical-align: middle;\n",
       "    }\n",
       "\n",
       "    .dataframe tbody tr th {\n",
       "        vertical-align: top;\n",
       "    }\n",
       "\n",
       "    .dataframe thead th {\n",
       "        text-align: right;\n",
       "    }\n",
       "</style>\n",
       "<table border=\"1\" class=\"dataframe\">\n",
       "  <thead>\n",
       "    <tr style=\"text-align: right;\">\n",
       "      <th></th>\n",
       "      <th>Flux</th>\n",
       "    </tr>\n",
       "  </thead>\n",
       "  <tbody>\n",
       "    <tr>\n",
       "      <th>h2o</th>\n",
       "      <td>3.333333</td>\n",
       "    </tr>\n",
       "    <tr>\n",
       "      <th>nh3</th>\n",
       "      <td>-0.666667</td>\n",
       "    </tr>\n",
       "    <tr>\n",
       "      <th>levdopa</th>\n",
       "      <td>0.666667</td>\n",
       "    </tr>\n",
       "    <tr>\n",
       "      <th>co2</th>\n",
       "      <td>0.000000</td>\n",
       "    </tr>\n",
       "  </tbody>\n",
       "</table>\n",
       "</div>"
      ],
      "text/plain": [
       "             Flux\n",
       "h2o      3.333333\n",
       "nh3     -0.666667\n",
       "levdopa  0.666667\n",
       "co2      0.000000"
      ]
     },
     "execution_count": 29,
     "metadata": {},
     "output_type": "execute_result"
    }
   ],
   "source": [
    "S_meas = S[['glc']]\n",
    "S_calc = S[['h2o','nh4','levdopa','co2']]\n",
    "S_calc.at['h','nh4'] = 3#Use ammonia, not ammonium!\n",
    "S_calc.columns = ['h2o','nh3','levdopa','co2']\n",
    "v_meas = pd.DataFrame(np.array([-1]) , index = ['glc'])\n",
    "v_calc = -1* np.linalg.inv(S_calc) @ S_meas @ v_meas\n",
    "v_calc.index = ['h2o','nh3','levdopa','co2']\n",
    "v_calc.columns = ['Flux']\n",
    "v_calc"
   ]
  },
  {
   "cell_type": "markdown",
   "metadata": {},
   "source": [
    "$3\\ Glucose + 2\\ NH_3 \\rightarrow 10\\ H_2O + 2\\ levdopa$.\n",
    "\n",
    "$Y_{ldopa/glu}=0.667\\ mol/mol=1\\ cmol/cmol$\n",
    "\n",
    "$Y_{ldopa/NH3}=1\\ mol/mol$"
   ]
  },
  {
   "cell_type": "markdown",
   "metadata": {
    "slideshow": {
     "slide_type": "subslide"
    }
   },
   "source": [
    "# Glucose as Carbon Source, Glutamate as Nitrogen Source"
   ]
  },
  {
   "cell_type": "code",
   "execution_count": 37,
   "metadata": {},
   "outputs": [
    {
     "data": {
      "text/html": [
       "<div>\n",
       "<style scoped>\n",
       "    .dataframe tbody tr th:only-of-type {\n",
       "        vertical-align: middle;\n",
       "    }\n",
       "\n",
       "    .dataframe tbody tr th {\n",
       "        vertical-align: top;\n",
       "    }\n",
       "\n",
       "    .dataframe thead th {\n",
       "        text-align: right;\n",
       "    }\n",
       "</style>\n",
       "<table border=\"1\" class=\"dataframe\">\n",
       "  <thead>\n",
       "    <tr style=\"text-align: right;\">\n",
       "      <th></th>\n",
       "      <th>Flux</th>\n",
       "    </tr>\n",
       "  </thead>\n",
       "  <tbody>\n",
       "    <tr>\n",
       "      <th>h2o</th>\n",
       "      <td>4.666667</td>\n",
       "    </tr>\n",
       "    <tr>\n",
       "      <th>glu</th>\n",
       "      <td>-1.333333</td>\n",
       "    </tr>\n",
       "    <tr>\n",
       "      <th>levdopa</th>\n",
       "      <td>1.333333</td>\n",
       "    </tr>\n",
       "    <tr>\n",
       "      <th>co2</th>\n",
       "      <td>0.666667</td>\n",
       "    </tr>\n",
       "  </tbody>\n",
       "</table>\n",
       "</div>"
      ],
      "text/plain": [
       "             Flux\n",
       "h2o      4.666667\n",
       "glu     -1.333333\n",
       "levdopa  1.333333\n",
       "co2      0.666667"
      ]
     },
     "execution_count": 37,
     "metadata": {},
     "output_type": "execute_result"
    }
   ],
   "source": [
    "S_meas = S[['glc']]\n",
    "S_calc = S[['h2o','glu','levdopa','co2']]\n",
    "S_calc.at['h','glu'] = S_calc.at['h','glu'] + 1#Use glutamic acid, not glutamate!\n",
    "S_calc.columns = ['h2o','glu','levdopa','co2']\n",
    "v_meas = pd.DataFrame(np.array([-1]) , index = ['glc'])\n",
    "v_calc = -1* np.linalg.inv(S_calc) @ S_meas @ v_meas\n",
    "v_calc.index = ['h2o','glu','levdopa','co2']\n",
    "v_calc.columns = ['Flux']\n",
    "v_calc"
   ]
  },
  {
   "cell_type": "markdown",
   "metadata": {},
   "source": [
    "$3\\ Glucose + 4\\ Glu \\rightarrow 2\\ CO_2 + 14\\ H_2O + 4\\ levdopa$.\n",
    "\n",
    "$Y_{ldopa/glu}=1.33\\ mol/mol$\n",
    "\n",
    "$Y_{ldopa/total\\ carbon\\ input}=0.947\\ cmol/cmol$\n",
    "\n",
    "$Y_{ldopa/glu}=1\\ mol/mol$"
   ]
  },
  {
   "cell_type": "markdown",
   "metadata": {
    "slideshow": {
     "slide_type": "subslide"
    }
   },
   "source": [
    "# Summary: Maximum Yields from Black Box Stochiometry\n",
    "![Image](figures/blackbox.png)"
   ]
  },
  {
   "cell_type": "markdown",
   "metadata": {
    "slideshow": {
     "slide_type": "slide"
    }
   },
   "source": [
    "# Flux Balance Analysis\n",
    "\n",
    "* **_On which pathways will this synthesis depend?_**\n",
    "* **_Does our maximum yield drop at all?_**\n",
    "* **_Does this inform our growth conditions?_**\n",
    "\n",
    "Run flux balance analysis using `cobra`, and display our results using `escher`"
   ]
  },
  {
   "cell_type": "code",
   "execution_count": 6,
   "metadata": {
    "scrolled": true,
    "slideshow": {
     "slide_type": "subslide"
    }
   },
   "outputs": [
    {
     "name": "stdout",
     "output_type": "stream",
     "text": [
      "unknown metabolite 'dahp_c' created\n",
      "unknown metabolite 'dhq_c' created\n",
      "unknown metabolite '3dhs_c' created\n",
      "unknown metabolite 'shikimate_c' created\n",
      "unknown metabolite 'shikimate3p_c' created\n",
      "unknown metabolite 'epsp_c' created\n",
      "unknown metabolite 'chorismate_c' created\n",
      "unknown metabolite 'prephenate_c' created\n",
      "unknown metabolite '4hppa_c' created\n",
      "unknown metabolite 'tyr__L_c' created\n",
      "unknown metabolite 'levdopa_c' created\n",
      "unknown metabolite 'levdopa_e' created\n"
     ]
    }
   ],
   "source": [
    "#load up everything\n",
    "%matplotlib inline\n",
    "import cobra\n",
    "from cobra import Model, Reaction, Metabolite\n",
    "cobra_config = cobra.Configuration()\n",
    "import escher\n",
    "from escher import Builder\n",
    "import pandas as pd\n",
    "import numpy as np\n",
    "import matplotlib.pyplot as plt\n",
    "from time import sleep\n",
    "import cobra.test\n",
    "from cobra.flux_analysis import (\n",
    "    single_gene_deletion, single_reaction_deletion, double_gene_deletion,double_reaction_deletion)\n",
    "\n",
    "network = pd.read_csv('shikimate_reactions.csv' , header=0)#shikimate related reactions to add\n",
    "sinks = pd.read_csv('sinks.csv' , header=0)#sinks to add\n",
    "\n",
    "levdopa_synthesis = cobra.io.load_json_model(\"e_coli_core.json\")#e coli central metabolism model from BiGG\n",
    "#levdopa_synthesis.solver = 'cplex'\n",
    "\n",
    "#define intracellular reactions not in central metabolism model\n",
    "for (myenzyme , mypathway , myreaction) in network.itertuples(index = False):\n",
    "    rxn = Reaction(myenzyme)\n",
    "    levdopa_synthesis.add_reactions([rxn])\n",
    "    rxn.name = myenzyme\n",
    "    rxn.subsystem = mypathway\n",
    "    rxn.build_reaction_from_string(myreaction)\n",
    "\n",
    "#define extra transport reactions not in central metabolism model\n",
    "for (mymetabolite , mydirection) in sinks.itertuples(index = False):\n",
    "    myreaction = '%s -->' % mymetabolite\n",
    "    rxn = Reaction('EX_%s' % mymetabolite)\n",
    "    levdopa_synthesis.add_reactions([rxn])\n",
    "    rxn.subsystem = 'Extracellular exchange'\n",
    "    rxn.name = '%s_transport' % mymetabolite\n",
    "    rxn.build_reaction_from_string(myreaction)\n",
    "    rxn.lower_bound = 0.\n",
    "    rxn.upper_bound = 1000."
   ]
  },
  {
   "cell_type": "code",
   "execution_count": 7,
   "metadata": {
    "slideshow": {
     "slide_type": "subslide"
    }
   },
   "outputs": [
    {
     "name": "stdout",
     "output_type": "stream",
     "text": [
      "Yield of levdopa from glucose: 0.508230 mol/mol; 0.762345 cmol/cmol\n",
      "Yield of levdopa from ammonia: 1.000000 mol/mol\n"
     ]
    }
   ],
   "source": [
    "levdopa_synthesis.objective = 'EX_levdopa_e'#maximize L-DOPA production\n",
    "builder = Builder(map_json = 'full_map.json')\n",
    "builder.model = levdopa_synthesis\n",
    "builder.highlight_missing = True\n",
    "solution = builder.model.optimize()\n",
    "builder.reaction_data = solution.fluxes/ abs(solution['EX_glc__D_e'])\n",
    "Y_ldopa_glc = solution['EX_levdopa_e']/abs(solution['EX_glc__D_e'])\n",
    "Y_ldopa_nh4 = solution['EX_levdopa_e']/abs(solution['EX_nh4_e'])\n",
    "print('Yield of levdopa from glucose: %f mol/mol; %f cmol/cmol' % (Y_ldopa_glc , 9/6*Y_ldopa_glc))\n",
    "print('Yield of levdopa from ammonia: %f mol/mol' % Y_ldopa_nh4)"
   ]
  },
  {
   "cell_type": "markdown",
   "metadata": {
    "slideshow": {
     "slide_type": "subslide"
    }
   },
   "source": [
    "# Aerobic FBA Solution\n",
    "![Image](Escher_Maps/aerobic_fba.png)"
   ]
  },
  {
   "cell_type": "markdown",
   "metadata": {
    "slideshow": {
     "slide_type": "subslide"
    }
   },
   "source": [
    "# Aerobic, with Rich Media\n",
    "\n",
    "_What if both glutamate and ammonia are free to be used as nitrogen sources?_"
   ]
  },
  {
   "cell_type": "code",
   "execution_count": 8,
   "metadata": {},
   "outputs": [
    {
     "name": "stdout",
     "output_type": "stream",
     "text": [
      "Yield of levdopa from glucose: 15.442448 mol/mol; 23.163672 cmol/cmol\n",
      "Yield of levdopa from glutamate: 0.312127 mol/mol; 0.561829 cmol/cmol\n",
      "Percent of carbon from both glucose and glutamate into L-DOPA: 0.548525 cmol/cmol\n"
     ]
    }
   ],
   "source": [
    "import copy\n",
    "levdopa_synthesis_with_glutamate = copy.deepcopy(levdopa_synthesis)\n",
    "#allow glutamate to be used as a feedstock\n",
    "levdopa_synthesis_with_glutamate.reactions.EX_glu__L_e.lower_bound = -1000\n",
    "builder_glutamate = Builder(map_json = 'full_map.json')\n",
    "builder_glutamate.model = levdopa_synthesis_with_glutamate\n",
    "builder_glutamate.highlight_missing = True\n",
    "solution_glutamate = builder_glutamate.model.optimize(objective_sense = None)\n",
    "builder_glutamate.reaction_data = solution_glutamate.fluxes / abs(solution_glutamate['EX_glc__D_e'])\n",
    "Y_ldopa_glc = solution_glutamate['EX_levdopa_e']/abs(solution_glutamate['EX_glc__D_e'])\n",
    "Y_ldopa_glu = solution_glutamate['EX_levdopa_e']/abs(solution_glutamate['EX_glu__L_e'])\n",
    "pct_carbon_assimilated = solution_glutamate['EX_levdopa_e'] * 9 / abs(solution_glutamate['EX_glc__D_e'] * 6 + solution_glutamate['EX_glu__L_e'] * 5)\n",
    "print('Yield of levdopa from glucose: %f mol/mol; %f cmol/cmol' % (Y_ldopa_glc , 9/6*Y_ldopa_glc))\n",
    "print('Yield of levdopa from glutamate: %f mol/mol; %f cmol/cmol' % (Y_ldopa_glu , 9/5*Y_ldopa_glu))\n",
    "print('Percent of carbon from both glucose and glutamate into L-DOPA: %f cmol/cmol' % pct_carbon_assimilated)"
   ]
  },
  {
   "cell_type": "markdown",
   "metadata": {
    "slideshow": {
     "slide_type": "subslide"
    }
   },
   "source": [
    "# Rich Media FBA Solution\n",
    "![Image](Escher_Maps/glutamate_fba.png)"
   ]
  },
  {
   "cell_type": "markdown",
   "metadata": {
    "slideshow": {
     "slide_type": "subslide"
    }
   },
   "source": [
    "# Anaerobic Fermentation"
   ]
  },
  {
   "cell_type": "code",
   "execution_count": 10,
   "metadata": {},
   "outputs": [
    {
     "name": "stdout",
     "output_type": "stream",
     "text": [
      "Yield of levdopa from glucose: -0.000000 mol/mol; -0.000000 cmol/cmol\n",
      "Yield of levdopa from ammonia: nan mol/mol\n"
     ]
    },
    {
     "name": "stderr",
     "output_type": "stream",
     "text": [
      "/Applications/anaconda3/lib/python3.7/site-packages/ipykernel_launcher.py:14 \u001b[1;31mRuntimeWarning\u001b[0m: invalid value encountered in double_scalars\n"
     ]
    }
   ],
   "source": [
    "levdopa_synthesis_anaerobic = copy.deepcopy(levdopa_synthesis)\n",
    "#knock out oxygen intake\n",
    "levdopa_synthesis_anaerobic.reactions.O2t.knock_out()\n",
    "builder_anaerobic = Builder(map_json = 'full_map.json')\n",
    "builder_anaerobic.model = levdopa_synthesis_anaerobic\n",
    "builder_anaerobic.highlight_missing = True\n",
    "solution_anaerobic = builder_anaerobic.model.optimize(objective_sense = None)\n",
    "builder_anaerobic.reaction_data = solution_anaerobic.fluxes / abs(solution_anaerobic['EX_glc__D_e'])\n",
    "Y_ldopa_glc = solution_anaerobic['EX_levdopa_e']/abs(solution_anaerobic['EX_glc__D_e'])\n",
    "Y_ldopa_nh4 = solution_anaerobic['EX_levdopa_e']/abs(solution_anaerobic['EX_nh4_e'])\n",
    "print('Yield of levdopa from glucose: %f mol/mol; %f cmol/cmol' % (Y_ldopa_glc , 9/6*Y_ldopa_glc))\n",
    "print('Yield of levdopa from ammonia: %f mol/mol' % Y_ldopa_nh4)"
   ]
  },
  {
   "cell_type": "markdown",
   "metadata": {
    "slideshow": {
     "slide_type": "subslide"
    }
   },
   "source": [
    "# Anaerobic FBA Solution\n",
    "![Image](Escher_Maps/anaerobic_fba.png)"
   ]
  },
  {
   "cell_type": "markdown",
   "metadata": {
    "slideshow": {
     "slide_type": "subslide"
    }
   },
   "source": [
    "# Summary: Maximum Yields by Analytical Paradigm\n",
    "![Image](figures/blackboxvsfba.png)"
   ]
  },
  {
   "cell_type": "markdown",
   "metadata": {
    "slideshow": {
     "slide_type": "slide"
    }
   },
   "source": [
    "# Balance Sanity Check\n",
    "\n",
    "* **_Before we head on to thermodynamics, do our flux balance analysis solutions obey black box atom balances?_**"
   ]
  },
  {
   "cell_type": "markdown",
   "metadata": {},
   "source": [
    "A valid flux solution $q$ will satisfy $Sq=0$, where $S$ is the species stoichiometric matrix."
   ]
  },
  {
   "cell_type": "code",
   "execution_count": 12,
   "metadata": {
    "slideshow": {
     "slide_type": "subslide"
    }
   },
   "outputs": [],
   "source": [
    "%matplotlib inline\n",
    "import pandas as pd\n",
    "import numpy as np\n",
    "import matplotlib.pyplot as plt\n",
    "import re\n",
    "#Read in csv\n",
    "solution = pd.read_csv('FBA_results/aerobic.csv' , index_col = 0)\n",
    "solution_glu = pd.read_csv('FBA_results/aerobic_glutamate.csv' , index_col = 0)\n",
    "#Extract the exchange fluxes\n",
    "solution_exchanges = solution[solution.index.str.contains('EX_')]\n",
    "solution_glu_exchanges = solution_glu[solution_glu.index.str.contains('EX_')]\n",
    "#FBA returned some fluxes that are near-zero but not zero because of double roundoff errors.\n",
    "solution_exchanges = solution_exchanges.query('abs(fluxes) > .0000000001')\n",
    "solution_glu_exchanges = solution_glu_exchanges.query('abs(fluxes) > .0000000001')\n",
    "#Convert the indexes into just the species name, without EX_ or _e\n",
    "solution_index = [re.search(r\"_[^_]+_{1}\",i).group() for i in solution_exchanges.index]\n",
    "solution_index = [i[1:len(i)-1] for i in solution_index]\n",
    "solution_exchanges.index = solution_index\n",
    "solution_glu_index = [re.search(r\"_[^_]+_{1}\",i).group() for i in solution_glu_exchanges.index]\n",
    "solution_glu_index = [i[1:len(i)-1] for i in solution_glu_index]\n",
    "solution_glu_exchanges.index = solution_glu_index\n",
    "#Read in stoichiometries of our exchanged metabolites\n",
    "S = pd.read_excel('exchange_stoichiometries.xls' , index_col = 0)"
   ]
  },
  {
   "cell_type": "code",
   "execution_count": 13,
   "metadata": {
    "slideshow": {
     "slide_type": "subslide"
    }
   },
   "outputs": [
    {
     "name": "stdout",
     "output_type": "stream",
     "text": [
      "Stoichiometric Matrix\n"
     ]
    },
    {
     "data": {
      "text/html": [
       "<div>\n",
       "<style scoped>\n",
       "    .dataframe tbody tr th:only-of-type {\n",
       "        vertical-align: middle;\n",
       "    }\n",
       "\n",
       "    .dataframe tbody tr th {\n",
       "        vertical-align: top;\n",
       "    }\n",
       "\n",
       "    .dataframe thead th {\n",
       "        text-align: right;\n",
       "    }\n",
       "</style>\n",
       "<table border=\"1\" class=\"dataframe\">\n",
       "  <thead>\n",
       "    <tr style=\"text-align: right;\">\n",
       "      <th></th>\n",
       "      <th>co2</th>\n",
       "      <th>for</th>\n",
       "      <th>glc</th>\n",
       "      <th>glu</th>\n",
       "      <th>h</th>\n",
       "      <th>h2o</th>\n",
       "      <th>o2</th>\n",
       "      <th>levdopa</th>\n",
       "      <th>nh4</th>\n",
       "    </tr>\n",
       "  </thead>\n",
       "  <tbody>\n",
       "    <tr>\n",
       "      <th>c</th>\n",
       "      <td>1</td>\n",
       "      <td>1</td>\n",
       "      <td>6</td>\n",
       "      <td>5</td>\n",
       "      <td>0</td>\n",
       "      <td>0</td>\n",
       "      <td>0</td>\n",
       "      <td>9</td>\n",
       "      <td>0</td>\n",
       "    </tr>\n",
       "    <tr>\n",
       "      <th>h</th>\n",
       "      <td>0</td>\n",
       "      <td>1</td>\n",
       "      <td>12</td>\n",
       "      <td>8</td>\n",
       "      <td>1</td>\n",
       "      <td>2</td>\n",
       "      <td>0</td>\n",
       "      <td>11</td>\n",
       "      <td>4</td>\n",
       "    </tr>\n",
       "    <tr>\n",
       "      <th>o</th>\n",
       "      <td>2</td>\n",
       "      <td>2</td>\n",
       "      <td>6</td>\n",
       "      <td>4</td>\n",
       "      <td>0</td>\n",
       "      <td>1</td>\n",
       "      <td>2</td>\n",
       "      <td>4</td>\n",
       "      <td>0</td>\n",
       "    </tr>\n",
       "    <tr>\n",
       "      <th>n</th>\n",
       "      <td>0</td>\n",
       "      <td>0</td>\n",
       "      <td>0</td>\n",
       "      <td>1</td>\n",
       "      <td>0</td>\n",
       "      <td>0</td>\n",
       "      <td>0</td>\n",
       "      <td>1</td>\n",
       "      <td>1</td>\n",
       "    </tr>\n",
       "  </tbody>\n",
       "</table>\n",
       "</div>"
      ],
      "text/plain": [
       "   co2  for  glc  glu  h  h2o  o2  levdopa  nh4\n",
       "c    1    1    6    5  0    0   0        9    0\n",
       "h    0    1   12    8  1    2   0       11    4\n",
       "o    2    2    6    4  0    1   2        4    0\n",
       "n    0    0    0    1  0    0   0        1    1"
      ]
     },
     "metadata": {},
     "output_type": "display_data"
    },
    {
     "name": "stdout",
     "output_type": "stream",
     "text": [
      "Aerobic Solution Exchange Fluxes (mM/min)\n"
     ]
    },
    {
     "data": {
      "text/html": [
       "<div>\n",
       "<style scoped>\n",
       "    .dataframe tbody tr th:only-of-type {\n",
       "        vertical-align: middle;\n",
       "    }\n",
       "\n",
       "    .dataframe tbody tr th {\n",
       "        vertical-align: top;\n",
       "    }\n",
       "\n",
       "    .dataframe thead th {\n",
       "        text-align: right;\n",
       "    }\n",
       "</style>\n",
       "<table border=\"1\" class=\"dataframe\">\n",
       "  <thead>\n",
       "    <tr style=\"text-align: right;\">\n",
       "      <th></th>\n",
       "      <th>co2</th>\n",
       "      <th>glc</th>\n",
       "      <th>h</th>\n",
       "      <th>h2o</th>\n",
       "      <th>nh4</th>\n",
       "      <th>o2</th>\n",
       "      <th>levdopa</th>\n",
       "    </tr>\n",
       "  </thead>\n",
       "  <tbody>\n",
       "    <tr>\n",
       "      <th>fluxes</th>\n",
       "      <td>14.259281</td>\n",
       "      <td>-10.0</td>\n",
       "      <td>5.082302</td>\n",
       "      <td>39.670791</td>\n",
       "      <td>-5.082302</td>\n",
       "      <td>-14.259281</td>\n",
       "      <td>5.082302</td>\n",
       "    </tr>\n",
       "  </tbody>\n",
       "</table>\n",
       "</div>"
      ],
      "text/plain": [
       "              co2   glc         h        h2o       nh4         o2   levdopa\n",
       "fluxes  14.259281 -10.0  5.082302  39.670791 -5.082302 -14.259281  5.082302"
      ]
     },
     "metadata": {},
     "output_type": "display_data"
    },
    {
     "name": "stdout",
     "output_type": "stream",
     "text": [
      "Aerobic + Glutamate Solution Exchange Fluxes (mM/min)\n"
     ]
    },
    {
     "data": {
      "text/html": [
       "<div>\n",
       "<style scoped>\n",
       "    .dataframe tbody tr th:only-of-type {\n",
       "        vertical-align: middle;\n",
       "    }\n",
       "\n",
       "    .dataframe tbody tr th {\n",
       "        vertical-align: top;\n",
       "    }\n",
       "\n",
       "    .dataframe thead th {\n",
       "        text-align: right;\n",
       "    }\n",
       "</style>\n",
       "<table border=\"1\" class=\"dataframe\">\n",
       "  <thead>\n",
       "    <tr style=\"text-align: right;\">\n",
       "      <th></th>\n",
       "      <th>co2</th>\n",
       "      <th>for</th>\n",
       "      <th>glc</th>\n",
       "      <th>glu</th>\n",
       "      <th>h</th>\n",
       "      <th>h2o</th>\n",
       "      <th>nh4</th>\n",
       "      <th>o2</th>\n",
       "      <th>levdopa</th>\n",
       "    </tr>\n",
       "  </thead>\n",
       "  <tbody>\n",
       "    <tr>\n",
       "      <th>fluxes</th>\n",
       "      <td>659.676219</td>\n",
       "      <td>484.244776</td>\n",
       "      <td>-10.0</td>\n",
       "      <td>-494.748259</td>\n",
       "      <td>-350.827264</td>\n",
       "      <td>442.30209</td>\n",
       "      <td>340.323781</td>\n",
       "      <td>-654.424478</td>\n",
       "      <td>154.424478</td>\n",
       "    </tr>\n",
       "  </tbody>\n",
       "</table>\n",
       "</div>"
      ],
      "text/plain": [
       "               co2         for   glc         glu           h        h2o  \\\n",
       "fluxes  659.676219  484.244776 -10.0 -494.748259 -350.827264  442.30209   \n",
       "\n",
       "               nh4          o2     levdopa  \n",
       "fluxes  340.323781 -654.424478  154.424478  "
      ]
     },
     "metadata": {},
     "output_type": "display_data"
    }
   ],
   "source": [
    "print('Stoichiometric Matrix')\n",
    "display(S)\n",
    "print('Aerobic Solution Exchange Fluxes (mM/min)')\n",
    "display(solution_exchanges.T)\n",
    "print('Aerobic + Glutamate Solution Exchange Fluxes (mM/min)')\n",
    "display(solution_glu_exchanges.T)"
   ]
  },
  {
   "cell_type": "markdown",
   "metadata": {
    "slideshow": {
     "slide_type": "subslide"
    }
   },
   "source": [
    "# Aerobic Solution Element Balance"
   ]
  },
  {
   "cell_type": "code",
   "execution_count": 27,
   "metadata": {},
   "outputs": [
    {
     "data": {
      "text/html": [
       "<div>\n",
       "<style scoped>\n",
       "    .dataframe tbody tr th:only-of-type {\n",
       "        vertical-align: middle;\n",
       "    }\n",
       "\n",
       "    .dataframe tbody tr th {\n",
       "        vertical-align: top;\n",
       "    }\n",
       "\n",
       "    .dataframe thead th {\n",
       "        text-align: right;\n",
       "    }\n",
       "</style>\n",
       "<table border=\"1\" class=\"dataframe\">\n",
       "  <thead>\n",
       "    <tr style=\"text-align: right;\">\n",
       "      <th></th>\n",
       "      <th>fluxes</th>\n",
       "    </tr>\n",
       "  </thead>\n",
       "  <tbody>\n",
       "    <tr>\n",
       "      <th>c</th>\n",
       "      <td>-4.440892e-15</td>\n",
       "    </tr>\n",
       "    <tr>\n",
       "      <th>h</th>\n",
       "      <td>-4.174439e-14</td>\n",
       "    </tr>\n",
       "    <tr>\n",
       "      <th>o</th>\n",
       "      <td>-7.105427e-15</td>\n",
       "    </tr>\n",
       "    <tr>\n",
       "      <th>n</th>\n",
       "      <td>0.000000e+00</td>\n",
       "    </tr>\n",
       "  </tbody>\n",
       "</table>\n",
       "</div>"
      ],
      "text/plain": [
       "         fluxes\n",
       "c -4.440892e-15\n",
       "h -4.174439e-14\n",
       "o -7.105427e-15\n",
       "n  0.000000e+00"
      ]
     },
     "metadata": {},
     "output_type": "display_data"
    }
   ],
   "source": [
    "display(S[solution_exchanges.index] @ solution_exchanges)"
   ]
  },
  {
   "cell_type": "markdown",
   "metadata": {
    "slideshow": {
     "slide_type": "subslide"
    }
   },
   "source": [
    "# Rich Media Solution Element Balance"
   ]
  },
  {
   "cell_type": "code",
   "execution_count": 26,
   "metadata": {},
   "outputs": [
    {
     "data": {
      "text/html": [
       "<div>\n",
       "<style scoped>\n",
       "    .dataframe tbody tr th:only-of-type {\n",
       "        vertical-align: middle;\n",
       "    }\n",
       "\n",
       "    .dataframe tbody tr th {\n",
       "        vertical-align: top;\n",
       "    }\n",
       "\n",
       "    .dataframe thead th {\n",
       "        text-align: right;\n",
       "    }\n",
       "</style>\n",
       "<table border=\"1\" class=\"dataframe\">\n",
       "  <thead>\n",
       "    <tr style=\"text-align: right;\">\n",
       "      <th></th>\n",
       "      <th>fluxes</th>\n",
       "    </tr>\n",
       "  </thead>\n",
       "  <tbody>\n",
       "    <tr>\n",
       "      <th>c</th>\n",
       "      <td>7.105427e-13</td>\n",
       "    </tr>\n",
       "    <tr>\n",
       "      <th>h</th>\n",
       "      <td>1.222134e-12</td>\n",
       "    </tr>\n",
       "    <tr>\n",
       "      <th>o</th>\n",
       "      <td>-1.136868e-13</td>\n",
       "    </tr>\n",
       "    <tr>\n",
       "      <th>n</th>\n",
       "      <td>8.526513e-14</td>\n",
       "    </tr>\n",
       "  </tbody>\n",
       "</table>\n",
       "</div>"
      ],
      "text/plain": [
       "         fluxes\n",
       "c  7.105427e-13\n",
       "h  1.222134e-12\n",
       "o -1.136868e-13\n",
       "n  8.526513e-14"
      ]
     },
     "metadata": {},
     "output_type": "display_data"
    }
   ],
   "source": [
    "display(S[solution_glu_exchanges.index] @ solution_glu_exchanges)"
   ]
  },
  {
   "cell_type": "markdown",
   "metadata": {
    "slideshow": {
     "slide_type": "slide"
    }
   },
   "source": [
    "# Thermodynamics\n",
    "\n",
    "* **_Are our two aerobic FBA solutions spontaneous? How do their_** $\\Delta G^{'}_m$ **_compare?_**\n",
    "\n",
    "* **_Can we use minimum driving force analysis with_** `equilibrator_pathway` **_to pinpoint bottlenecks and steps amenable to flux control?_**"
   ]
  },
  {
   "cell_type": "code",
   "execution_count": 22,
   "metadata": {
    "slideshow": {
     "slide_type": "subslide"
    }
   },
   "outputs": [
    {
     "name": "stdout",
     "output_type": "stream",
     "text": [
      "unknown metabolite 'dahp_c' created\n",
      "unknown metabolite 'dhq_c' created\n",
      "unknown metabolite '3dhs_c' created\n",
      "unknown metabolite 'shikimate_c' created\n",
      "unknown metabolite 'shikimate3p_c' created\n",
      "unknown metabolite 'epsp_c' created\n",
      "unknown metabolite 'chorismate_c' created\n",
      "unknown metabolite 'prephenate_c' created\n",
      "unknown metabolite '4hppa_c' created\n",
      "unknown metabolite 'tyr__L_c' created\n",
      "unknown metabolite 'levdopa_c' created\n",
      "unknown metabolite 'levdopa_e' created\n"
     ]
    }
   ],
   "source": [
    "#load up everything\n",
    "%matplotlib inline\n",
    "import cobra\n",
    "from cobra import Model, Reaction, Metabolite\n",
    "cobra_config = cobra.Configuration()\n",
    "import escher\n",
    "from escher import Builder\n",
    "import pandas as pd\n",
    "import numpy as np\n",
    "import matplotlib.pyplot as plt\n",
    "from time import sleep\n",
    "import cobra.test\n",
    "import equilibrator_api\n",
    "from equilibrator_api import Q_\n",
    "from equilibrator_api import get_compound\n",
    "import math\n",
    "from sbtab import SBtab\n",
    "from equilibrator_pathway import Pathway\n",
    "\n",
    "network = pd.read_csv('shikimate_reactions.csv' , header=0)#shikimate related reactions to add\n",
    "sinks = pd.read_csv('sinks.csv' , header=0)#sinks to add\n",
    "\n",
    "levdopa_synthesis = cobra.io.load_json_model(\"e_coli_core.json\")#e coli central metabolism model from BiGG\n",
    "#levdopa_synthesis.solver = 'cplex'\n",
    "\n",
    "#define intracellular reactions not in central metabolism model\n",
    "for (myenzyme , mypathway , myreaction) in network.itertuples(index = False):\n",
    "    rxn = Reaction(myenzyme)\n",
    "    levdopa_synthesis.add_reactions([rxn])\n",
    "    rxn.name = myenzyme\n",
    "    rxn.subsystem = mypathway\n",
    "    rxn.build_reaction_from_string(myreaction)\n",
    "\n",
    "#define extra transport reactions not in central metabolism model\n",
    "for (mymetabolite , mydirection) in sinks.itertuples(index = False):\n",
    "    myreaction = '%s -->' % mymetabolite\n",
    "    rxn = Reaction('EX_%s' % mymetabolite)\n",
    "    levdopa_synthesis.add_reactions([rxn])\n",
    "    rxn.subsystem = 'Extracellular exchange'\n",
    "    rxn.name = '%s_transport' % mymetabolite\n",
    "    rxn.build_reaction_from_string(myreaction)\n",
    "    rxn.lower_bound = 0.\n",
    "    rxn.upper_bound = 1000.\n",
    "\n",
    "solution = pd.read_csv('FBA_results/aerobic.csv' , index_col = 0)\n",
    "solution_glutamate = pd.read_csv('FBA_results/aerobic_glutamate.csv' , index_col = 0)"
   ]
  },
  {
   "cell_type": "code",
   "execution_count": 23,
   "metadata": {
    "slideshow": {
     "slide_type": "subslide"
    }
   },
   "outputs": [],
   "source": [
    "#Import e coli core model in json format\n",
    "with open('e_coli_core.json') as f:\n",
    "    ecolicore = json.load(f)\n",
    "metabolites = ecolicore['metabolites']\n",
    "\n",
    "custom_metabolites = pd.read_csv('shikimate_metabolites.csv' , index_col = 0)\n",
    "\n",
    "#Returns KEGG ID for a given BiGG ID\n",
    "def getKEGG(met_id):\n",
    "    #Search for metabolite by BiGG ID in the e coli core model\n",
    "    entry = list(filter(lambda met: met['id'] == met_id, metabolites))\n",
    "    #If we get a hit, return it\n",
    "    try:\n",
    "        return entry[0]['annotation']['kegg.compound'][0]\n",
    "    #If else, it's probably one of my custom metabolites\n",
    "    except:\n",
    "        return custom_metabolites.at[met_id , 'KEGG_ID']\n",
    "    \n",
    "\n",
    "#Takes a reaction object and converts it into an Equilibrator-parsable string\n",
    "def stringReaction(rxn , for_pathway = False):\n",
    "    left = {met : stoich for met , stoich in rxn.metabolites.items() if stoich < 0}\n",
    "    right = {met : stoich for met , stoich in rxn.metabolites.items() if stoich > 0}\n",
    "    rxn_string = ''\n",
    "    \n",
    "    if not for_pathway:\n",
    "        for met , stoich in left.items():\n",
    "            rxn_string += '%.2f kegg:%s + ' % (-1*stoich , getKEGG(met.id))\n",
    "\n",
    "        rxn_string = rxn_string[0:len(rxn_string)-2] + '= '\n",
    "        for met , stoich in right.items():\n",
    "            rxn_string += '%.2f kegg:%s + ' % (stoich , getKEGG(met.id))\n",
    "\n",
    "        rxn_string = rxn_string[0:len(rxn_string) - 3]\n",
    "    else:\n",
    "        #return in equilibrator pathway-happy format if you so request. (no kegg or leading 1's)\n",
    "        for met , stoich in left.items():\n",
    "            if abs(stoich) != 1:\n",
    "                rxn_string += '%.2f %s + ' % (-1*stoich , getKEGG(met.id))\n",
    "            else:\n",
    "                rxn_string += '%s + ' % (getKEGG(met.id))\n",
    "\n",
    "        rxn_string = rxn_string[0:len(rxn_string)-2] + '<=> '\n",
    "        for met , stoich in right.items():\n",
    "            if abs(stoich) != 1:\n",
    "                rxn_string += '%.2f %s + ' % (stoich , getKEGG(met.id))\n",
    "            else:\n",
    "                rxn_string += '%s + ' % (getKEGG(met.id))\n",
    "\n",
    "        rxn_string = rxn_string[0:len(rxn_string) - 3]\n",
    "    return(rxn_string)\n",
    "#Gets delta go or delta gm for each reaction in a data frame\n",
    "def getG(flux_df , useGm = False):\n",
    "    #this will store the string form g values and the indices in parallel arrays\n",
    "    g = []\n",
    "    indices = []\n",
    "    #iterate over every reaction that isn't an exchange or transport\n",
    "    for rxn in flux_df.index:\n",
    "        if rxn.rfind('EX_') < 0 and rxn.rfind('_t') < 0 and rxn != 'H2Ot' and rxn != 'NH4t' and rxn != 'CO2t' and rxn != 'O2t':\n",
    "            #flip the signs of reactions with negative fluxes\n",
    "            if flux_df.loc[rxn , 'fluxes'] < 0:\n",
    "                flip_sign = -1\n",
    "            else:\n",
    "                flip_sign = 1\n",
    "            try:\n",
    "                #make equilibrator model of reaction\n",
    "                s = stringReaction(levdopa_synthesis.reactions.get_by_id(rxn))\n",
    "                reaction = equilibrator_api.parse_reaction_formula(s)\n",
    "                cc = equilibrator_api.ComponentContribution(p_h=Q_(7.0), temperature=Q_(\"298.15K\"))\n",
    "                # calculate standard free energy\n",
    "                if not useGm:\n",
    "                    g.append(flip_sign * cc.standard_dg_prime(reaction))\n",
    "                #calculate metabolic free energy\n",
    "                else:\n",
    "                    g.append(flip_sign * cc.physiological_dg_prime(reaction))\n",
    "            except:\n",
    "                print('Failed to add reaction %s' % rxn)\n",
    "                g.append(None)\n",
    "            indices.append(rxn)\n",
    "    #extract magnitudes and errors from string form g\n",
    "    magnitudes = []\n",
    "    errors = []\n",
    "    for a in g:\n",
    "        if a is None:\n",
    "            magnitudes.append(None)\n",
    "            errors.append(None)\n",
    "        else:\n",
    "            magnitudes.append(float(str(a.magnitude)[0:str(a.magnitude).rfind('+')]))\n",
    "            errors.append(float(str(a.magnitude)[str(a.magnitude).rfind('-')+1:]))\n",
    "    #return result as data frame\n",
    "    if useGm:\n",
    "        cols = ['dGm_kJ_per_mol' , 'error']\n",
    "    else:\n",
    "        cols = ['dGo_kJ_per_mol' , 'error']\n",
    "    result = pd.DataFrame(zip(magnitudes , errors) , index = indices , columns = cols)\n",
    "    return result"
   ]
  },
  {
   "cell_type": "markdown",
   "metadata": {
    "slideshow": {
     "slide_type": "subslide"
    }
   },
   "source": [
    "# Overall Pathway Thermodynamics\n",
    "\n",
    "Calculate the $\\Delta G^{'}_{m}$ of each step in a given flux solution using `equilibrator`\n",
    "\n",
    "Multiply this $\\Delta G^{'}_{m}$ (in kJ/mol) by the corresponding step flux (in mol/min, arbitrary units here)\n",
    "\n",
    "Sum these scaled $\\Delta G^{'}_{m}$ to get an overall value for the pathway\n",
    "\n",
    "Divide by the flux of L-DOPA synthesis so that we can compare FBA solutions more fairly"
   ]
  },
  {
   "cell_type": "markdown",
   "metadata": {
    "slideshow": {
     "slide_type": "subslide"
    }
   },
   "source": [
    "## Aerobic Solution"
   ]
  },
  {
   "cell_type": "code",
   "execution_count": 24,
   "metadata": {},
   "outputs": [
    {
     "name": "stdout",
     "output_type": "stream",
     "text": [
      "Aerobic Solution\n",
      "Total dGm of flux vector: -8916.193232 kJ/min\n",
      "Normalized to L-DOPA production: -1754.361105 kJ/mol L-DOPA\n"
     ]
    }
   ],
   "source": [
    "Gm = getG(solution , useGm = True)\n",
    "nonspontaneous = Gm.query('dGm_kJ_per_mol > 0').sort_values(by='dGm_kJ_per_mol' , ascending = False)\n",
    "spontaneous = Gm.query('dGm_kJ_per_mol <= 0').sort_values(by='dGm_kJ_per_mol')\n",
    "dGm_overall = 0\n",
    "for index , row in Gm.iterrows():\n",
    "    if not math.isnan(row['dGm_kJ_per_mol']):\n",
    "        dGm_overall += row['dGm_kJ_per_mol'] * abs(solution.loc[index , 'fluxes'])\n",
    "print('Total dGm of flux vector: %f kJ/min' % dGm_overall)\n",
    "print('Normalized to L-DOPA production: %f kJ/mol L-DOPA' % (float(dGm_overall) / abs(solution.loc['EX_levdopa_e' , 'fluxes'])))"
   ]
  },
  {
   "cell_type": "markdown",
   "metadata": {
    "slideshow": {
     "slide_type": "subslide"
    }
   },
   "source": [
    "## Rich Media Aerobic Solution"
   ]
  },
  {
   "cell_type": "code",
   "execution_count": 31,
   "metadata": {},
   "outputs": [
    {
     "name": "stdout",
     "output_type": "stream",
     "text": [
      "Aerobic Solution with Glutamate Feed\n",
      "Total dGm of flux vector: -300455.460008 kJ/min\n",
      "Normalized to L-DOPA production: -1945.646601 kJ/mol L-DOPA\n"
     ]
    }
   ],
   "source": [
    "print('Aerobic Solution with Glutamate Feed')\n",
    "Gm_glu = getG(solution_glutamate , useGm = True)\n",
    "nonspontaneous_glu = Gm_glu.query('dGm_kJ_per_mol > 0').sort_values(by='dGm_kJ_per_mol' , ascending = False)\n",
    "spontaneous_glu = Gm_glu.query('dGm_kJ_per_mol <= 0').sort_values(by='dGm_kJ_per_mol')\n",
    "dGm_overall_glu = 0\n",
    "for index , row in Gm_glu.iterrows():\n",
    "    if not math.isnan(row['dGm_kJ_per_mol']):\n",
    "        dGm_overall_glu += row['dGm_kJ_per_mol'] * abs(solution_glutamate.loc[index , 'fluxes'])\n",
    "print('Total dGm of flux vector: %f kJ/min' % dGm_overall_glu)\n",
    "print('Normalized to L-DOPA production: %f kJ/mol L-DOPA' % (float(dGm_overall_glu) / abs(solution_glutamate.loc['EX_levdopa_e' , 'fluxes'])))"
   ]
  },
  {
   "cell_type": "markdown",
   "metadata": {
    "slideshow": {
     "slide_type": "subslide"
    }
   },
   "source": [
    "# Minimum Driving Force Analysis\n",
    "\n",
    "Determine the minimum driving force-optimized species concentrations and reaction $\\Delta G^{'}$ using `equilibrator_pathway`"
   ]
  },
  {
   "cell_type": "code",
   "execution_count": 32,
   "metadata": {
    "slideshow": {
     "slide_type": "subslide"
    }
   },
   "outputs": [],
   "source": [
    "#Export solution as an Equilibrator Pathway-compatible CSV file\n",
    "def makeCSV(flux_df , filename):\n",
    "    reaction_names = [stringReaction(levdopa_synthesis.reactions.get_by_id(rxn) , for_pathway = True) for rxn in flux_df.index]\n",
    "    result = pd.DataFrame(zip(reaction_names , flux_df.fluxes.values), columns = ['ReactionFormula' , 'RelativeFlux'])\n",
    "    result.to_csv('Equilibrator_Pathway_CSV/%s' % filename , index = False)\n",
    "#Run this function for the shikimate pathway. Only put in the rows that aren't sinks or passive transports.\n",
    "shikimate_rxns = [r.name for r in levdopa_synthesis.reactions if r.subsystem == 'shikimate_pathway' or r.subsystem == 'tyrosine_metabolism']\n",
    "shikimate_fluxes = solution.loc[shikimate_rxns,'fluxes'] / solution.loc['hpaBC','fluxes']\n",
    "shikimate_rxns = pd.DataFrame(shikimate_fluxes.values , index = shikimate_rxns , columns = ['fluxes'])\n",
    "#Only worry about the NADH-dependent shikimate dehydrogenase for this analysis.\n",
    "shikimate_rxns = shikimate_rxns.drop(['shikimate_dh'])\n",
    "shikimate_rxns.at['shikimate_dh_nadh','fluxes'] = 1\n",
    "makeCSV(shikimate_rxns , 'shikimate.csv')\n",
    "#Make CSV files for the aerobic and aerobic+glutamate FBA solutions (scrub out sinks and passive transports)\n",
    "exchange_reactions = ['EX_for_e','EX_pi_e','PIt2r','EX_co2_e','FORti','EX_glc__D_e','EX_h_e','EX_h2o_e','EX_nh4_e','EX_o2_e','CO2t','NH4t','H2Ot','O2t','levdopa_t','EX_levdopa_e','EX_glu__L_e','GLUt2r']\n",
    "makeCSV(solution.query('not index in @exchange_reactions')  , 'solution.csv')\n",
    "makeCSV(solution_glutamate.query('not index in @exchange_reactions')  , 'solution_glutamate.csv')"
   ]
  },
  {
   "cell_type": "markdown",
   "metadata": {},
   "source": [
    "*__brief detour to the equilibrator website to make an `sbtab`__*"
   ]
  },
  {
   "cell_type": "markdown",
   "metadata": {
    "slideshow": {
     "slide_type": "subslide"
    }
   },
   "source": [
    "# The Shikimate Pathway Alone"
   ]
  },
  {
   "cell_type": "code",
   "execution_count": 34,
   "metadata": {},
   "outputs": [
    {
     "data": {
      "image/png": "[encoded data removed]",
      "text/plain": [
       "<Figure size 648x432 with 1 Axes>"
      ]
     },
     "metadata": {
      "needs_background": "light"
     },
     "output_type": "display_data"
    }
   ],
   "source": [
    "filename = 'Equilibrator_Pathway_CSV/shikimate_pH7.00_I0.10_MDF.tsv'#Read in resulting sbtab\n",
    "sbtab_file = open(filename, 'r')\n",
    "file_content = sbtab_file.read()\n",
    "sbtab_file.close()\n",
    "doc = SBtab.SBtabDocument(\"shikimate_pH7.00_I0.10_MDF\", file_content, filename)#Run mdf analysis\n",
    "shikimate_pathway = Pathway.from_sbtab(doc)\n",
    "shikimate_mdf_result = shikimate_pathway.calc_mdf()#Plot output\n",
    "shikimate_mdf_result.reaction_plot;"
   ]
  },
  {
   "cell_type": "markdown",
   "metadata": {
    "slideshow": {
     "slide_type": "subslide"
    }
   },
   "source": [
    "# Aerobic Solution"
   ]
  },
  {
   "cell_type": "code",
   "execution_count": 35,
   "metadata": {},
   "outputs": [
    {
     "data": {
      "image/png": "[encoded data removed]",
      "text/plain": [
       "<Figure size 648x432 with 1 Axes>"
      ]
     },
     "metadata": {
      "needs_background": "light"
     },
     "output_type": "display_data"
    }
   ],
   "source": [
    "filename = 'Equilibrator_Pathway_CSV/solution_pH7.00_I0.10_MDF.tsv'#Read in resulting sbtab\n",
    "sbtab_file = open(filename, 'r')\n",
    "file_content = sbtab_file.read()\n",
    "sbtab_file.close()\n",
    "doc = SBtab.SBtabDocument(\"solution_pH7.00_I0.10_MDF\", file_content, filename)#Run mdf analysis\n",
    "solution_pathway = Pathway.from_sbtab(doc)\n",
    "solution_mdf_result = solution_pathway.calc_mdf()#Plot output\n",
    "solution_mdf_result.reaction_plot;"
   ]
  },
  {
   "cell_type": "markdown",
   "metadata": {
    "slideshow": {
     "slide_type": "subslide"
    }
   },
   "source": [
    "# Rich Media Solution"
   ]
  },
  {
   "cell_type": "code",
   "execution_count": 36,
   "metadata": {},
   "outputs": [
    {
     "data": {
      "image/png": "[encoded data removed]",
      "text/plain": [
       "<Figure size 648x432 with 1 Axes>"
      ]
     },
     "metadata": {
      "needs_background": "light"
     },
     "output_type": "display_data"
    }
   ],
   "source": [
    "filename = 'Equilibrator_Pathway_CSV/solution_glutamate_pH7.00_I0.10_MDF.tsv'#Read in resulting sbtab\n",
    "sbtab_file = open(filename, 'r')\n",
    "file_content = sbtab_file.read()\n",
    "sbtab_file.close()\n",
    "doc = SBtab.SBtabDocument(\"solution_glutamate_pH7.00_I0.10_MDF\", file_content, filename)#Run mdf analysis\n",
    "solution_glu_pathway = Pathway.from_sbtab(doc)\n",
    "solution_glu_mdf_result = solution_glu_pathway.calc_mdf()#Plot output\n",
    "plt = solution_glu_mdf_result.reaction_plot;"
   ]
  },
  {
   "cell_type": "markdown",
   "metadata": {
    "slideshow": {
     "slide_type": "slide"
    }
   },
   "source": [
    "# Conclusions\n",
    "\n",
    "* __*How do the Wei et al. and Munoz et al. attempts compare to our maximum theoretical yields?*__\n",
    "* __*Are Wei's and Munoz's genome engineering choices rational?*__\n",
    "* __*What other enzymes could be manipulated to further imporve yield?*__"
   ]
  },
  {
   "cell_type": "code",
   "execution_count": null,
   "metadata": {},
   "outputs": [],
   "source": []
  }
 ],
 "metadata": {
  "kernelspec": {
   "display_name": "Python 3",
   "language": "python",
   "name": "python3"
  },
  "language_info": {
   "codemirror_mode": {
    "name": "ipython",
    "version": 3
   },
   "file_extension": ".py",
   "mimetype": "text/x-python",
   "name": "python",
   "nbconvert_exporter": "python",
   "pygments_lexer": "ipython3",
   "version": "3.7.6"
  }
 },
 "nbformat": 4,
 "nbformat_minor": 4
}
